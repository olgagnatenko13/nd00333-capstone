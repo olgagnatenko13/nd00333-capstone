{
  "cells": [
    {
      "cell_type": "markdown",
      "source": [
        "# Automated ML\n",
        "\n",
        "TODO: Import Dependencies. In the cell below, import all the dependencies that you will need to complete the project."
      ],
      "metadata": {}
    },
    {
      "cell_type": "code",
      "source": [
        "from azureml.core import Workspace, Experiment, Webservice\n",
        "from azureml.core.dataset import Dataset\n",
        "from azureml.core.environment import Environment\n",
        "from azureml.core.model import Model, InferenceConfig\n",
        "from azureml.core.webservice import AciWebservice\n",
        "from azureml.core.compute import ComputeTarget, ComputeInstance, AmlCompute\n",
        "from azureml.core.compute_target import ComputeTargetException\n",
        "\n",
        "from azureml.train.automl import AutoMLConfig\n",
        "from azureml.widgets import RunDetails\n",
        "\n",
        "from azureml.data.dataset_factory import TabularDatasetFactory\n",
        "\n",
        "from sklearn.model_selection import train_test_split\n",
        "from sklearn.metrics import accuracy_score\n",
        "\n",
        "import joblib \n",
        "import requests\n",
        "import os\n",
        "import json \n",
        "import pandas as pd \n",
        "from pprint import pprint\n",
        "from training.train import clean_data "
      ],
      "outputs": [],
      "execution_count": 2,
      "metadata": {
        "gather": {
          "logged": 1618791835682
        },
        "jupyter": {
          "outputs_hidden": false,
          "source_hidden": false
        },
        "nteract": {
          "transient": {
            "deleting": false
          }
        }
      }
    },
    {
      "cell_type": "markdown",
      "source": [
        "## Dataset\n",
        "\n",
        "### Overview\n",
        "TODO: In this markdown cell, give an overview of the dataset you are using. Also mention the task you will be performing.\n",
        "\n",
        "#### Dataset description\n",
        "The dataset is retrieved from https://www.kaggle.com/alhassanabdelglil/classification \n",
        "Employee attrition is a significant issue that impacts both the individual's quality of life, and work performance. Detecting individuals who are close to attrition, or are already experiencing it, can be used to prevent deterioration of work performance and life quality.\n",
        "\n",
        "The dataset contains data about 1,470 employees - their demographic, personal and professional characteristics, workplace characteristics, as well as information about employee attrition. \"Attrition\" is the target column used for train and test purposes. \n",
        "\n",
        "To avoid access issues, I have uploaded an unpacked copy of the dataset into own Github account, and loaded the dataset to AzureML from this copy.\n",
        "\n",
        "#### Task\n",
        "The purpose of the model is to assess whether an employee is experiencing attrition or not, based on employee's personal and professional characteristics. This task is a classification task.\n",
        "\n",
        "TODO: Get data. In the cell below, write code to access the data you will be using in this project. Remember that the dataset needs to be external."
      ],
      "metadata": {}
    },
    {
      "cell_type": "code",
      "source": [
        "ws = Workspace.from_config()\n",
        "\n",
        "# choose a name for experiment\n",
        "experiment_name = 'og-azureml-capstone'\n",
        "experiment=Experiment(ws, experiment_name)\n",
        "run = experiment.start_logging()"
      ],
      "outputs": [
        {
          "output_type": "stream",
          "name": "stdout",
          "text": [
            "Performing interactive authentication. Please follow the instructions on the terminal.\n",
            "To sign in, use a web browser to open the page https://microsoft.com/devicelogin and enter the code AXJRGDEJU to authenticate.\n",
            "You have logged in. Now let us find all the subscriptions to which you have access...\n",
            "Interactive authentication successfully completed.\n"
          ]
        }
      ],
      "execution_count": 3,
      "metadata": {
        "gather": {
          "logged": 1618791867851
        },
        "jupyter": {
          "outputs_hidden": false,
          "source_hidden": false
        },
        "nteract": {
          "transient": {
            "deleting": false
          }
        }
      }
    },
    {
      "cell_type": "code",
      "source": [
        "# Create or retrieve a compute cluster\n",
        "cluster_name = list(ws.compute_targets.keys())[0]\n",
        "if not(cluster_name):\n",
        "    cluster_name = 'capstone-cluster'\n",
        "    try:\n",
        "        cluster = ComputeTarget(workspace = ws, name = cluster_name)\n",
        "        print(\"Cluster already exists, start using it\")\n",
        "    except ComputeTargetException:\n",
        "        compute_config = AmlCompute.provisioning_configuration(vm_size = \"STANDARD_D2_V2\", max_nodes = 4)\n",
        "        cluster = ComputeTarget.create(ws, cluster_name, compute_config)\n",
        "\n",
        "    cluster.wait_for_completion(show_output = True)\n",
        "else:\n",
        "    cluster = ComputeInstance(workspace = ws, name = cluster_name)\n",
        "    print(\"Cluster already exists:\", cluster_name)"
      ],
      "outputs": [
        {
          "output_type": "stream",
          "name": "stdout",
          "text": [
            "Cluster already exists: notebook143094\n"
          ]
        }
      ],
      "execution_count": 4,
      "metadata": {
        "gather": {
          "logged": 1618791868359
        }
      }
    },
    {
      "cell_type": "code",
      "source": [
        "# Upload dataset to the workspace\n",
        "data_path = \"https://raw.githubusercontent.com/olgagnatenko13/nd00333-capstone/master/dataset/Dataset_for_Classification.csv\"\n",
        "found = False\n",
        "key = \"attrition-analysis\"\n",
        "description_text = \"Employee attrition data\"\n",
        "\n",
        "if key in ws.datasets.keys(): \n",
        "    found = True\n",
        "    dataset = ws.datasets[key] \n",
        "\n",
        "if not found:\n",
        "    # Create AML Dataset and register it into Workspace\n",
        "    dataset = Dataset.Tabular.from_delimited_files(data_path)        \n",
        "      \n",
        "    dataset = dataset.register(workspace=ws, name=key, description=description_text)\n",
        "\n",
        "df = dataset.to_pandas_dataframe()"
      ],
      "outputs": [],
      "execution_count": 5,
      "metadata": {
        "gather": {
          "logged": 1618791874867
        }
      }
    },
    {
      "cell_type": "code",
      "source": [
        "# Clean data, split the dataset into test and train \n",
        "x, y = clean_data(dataset)\n",
        "\n",
        "test_size = 0.25\n",
        "random_state = 7\n",
        "\n",
        "x_train, x_test, y_train, y_test = train_test_split(x, y, test_size = test_size, random_state = random_state, stratify = y)\n",
        "\n",
        "ds_train = pd.concat([x_train, y_train], axis=1, sort = False)\n",
        "ds_test = pd.concat([x_test, y_test], axis=1, sort = False)"
      ],
      "outputs": [],
      "execution_count": 6,
      "metadata": {
        "gather": {
          "logged": 1618791877988
        }
      }
    },
    {
      "cell_type": "code",
      "source": [
        "# Save split datasets \n",
        "data_folder='./data'\n",
        "os.makedirs(data_folder, exist_ok=True)\n",
        "data_path_train = os.path.join(data_folder, \"ds_train.csv\")\n",
        "data_path_test = os.path.join(data_folder, \"ds_test.csv\")\n",
        "\n",
        "ds_train.to_csv(data_path_train, index = False)\n",
        "ds_test.to_csv(data_path_test, index = False)"
      ],
      "outputs": [],
      "execution_count": 7,
      "metadata": {
        "gather": {
          "logged": 1618791881557
        }
      }
    },
    {
      "cell_type": "code",
      "source": [
        "# load split datasets\n",
        "datastore = ws.get_default_datastore()\n",
        "datastore.upload(src_dir = data_folder, target_path = \"data\", overwrite=True, show_progress=True)\n",
        "tabular_ds_train = TabularDatasetFactory.from_delimited_files(path = datastore.path(\"data/ds_train.csv\"))\n",
        "tabular_ds_test = TabularDatasetFactory.from_delimited_files(path = datastore.path(\"data/ds_test.csv\"))"
      ],
      "outputs": [
        {
          "output_type": "stream",
          "name": "stdout",
          "text": [
            "Uploading an estimated of 2 files\n",
            "Uploading ./data/ds_test.csv\n",
            "Uploaded ./data/ds_test.csv, 1 files out of an estimated total of 2\n",
            "Uploading ./data/ds_train.csv\n",
            "Uploaded ./data/ds_train.csv, 2 files out of an estimated total of 2\n",
            "Uploaded 2 files\n"
          ]
        }
      ],
      "execution_count": 20,
      "metadata": {
        "gather": {
          "logged": 1618795511964
        }
      }
    },
    {
      "cell_type": "markdown",
      "source": [
        "## AutoML Configuration\n",
        "\n",
        "TODO: Explain why you chose the automl settings and configuration you used below.\n",
        "\n",
        "### Automl settings\n",
        "- experiment_timeout_minutes = 20: to avoid virtual machine timeout, we limit AutoML experiment time \n",
        "- max_concurrent_iterations = 5: we limit the number of parallel iterations to optimize resource use \n",
        "- task = \"classification\": the selected problem is a binary classification task \n",
        "- primary metric - accuracy (as in the hyperparameter experiment) for compatibility purposes, and due to the fact that correct identification of positives and negatives is equally important \n",
        "- label_column_name = \"Attrition\": the data about employee attrition are located in column \"Attrition\"\n",
        "- n_cross_validations = 3: we specifically indicate to use cross-validation approach instead of default train-test split, and select three cross-validation folds\n",
        "- debug_log = 'automl_errors.log': place automl logs into a file for future analysis \n",
        "- featurization = \"auto\": allow AutoML to perform featurization based on the task type \n",
        "- enable_early_stopping: True: apply early termination if the score is not improving in the long-term perspective - this option is selected to make the run faster \n",
        "\n",
        "### Configuration\n",
        "- training_data = tabular_ds_train: we train the model on the \"train\" part of the dataset\n",
        "- compute_target = cluster_name: indicate the compute to run the experiment "
      ],
      "metadata": {}
    },
    {
      "cell_type": "code",
      "source": [
        "# TODO: Put your automl settings here\n",
        "\n",
        "automl_settings = {\n",
        "    \"experiment_timeout_minutes\": 20,\n",
        "    \"max_concurrent_iterations\": 5,\n",
        "    \"task\": \"classification\",\n",
        "    \"primary_metric\" : \"accuracy\",\n",
        "    \"label_column_name\": \"Attrition\",\n",
        "    \"n_cross_validations\": 3,\n",
        "    \"debug_log\": \"automl_errors.log\",\n",
        "    \"featurization\": \"auto\",\n",
        "    \"enable_early_stopping\": True\n",
        "}\n",
        "\n",
        "# TODO: Put your automl config here\n",
        "automl_config = AutoMLConfig(\n",
        "    compute_target = cluster_name,\n",
        "    training_data = tabular_ds_train,  \n",
        "    **automl_settings\n",
        ")"
      ],
      "outputs": [],
      "execution_count": 9,
      "metadata": {
        "gather": {
          "logged": 1618791890043
        },
        "jupyter": {
          "outputs_hidden": false,
          "source_hidden": false
        },
        "nteract": {
          "transient": {
            "deleting": false
          }
        }
      }
    },
    {
      "cell_type": "code",
      "source": [
        "# TODO: Submit your experiment\n",
        "remote_run = experiment.submit(automl_config)"
      ],
      "outputs": [
        {
          "output_type": "stream",
          "name": "stdout",
          "text": [
            "Submitting remote run.\n"
          ]
        },
        {
          "output_type": "display_data",
          "data": {
            "text/plain": "<IPython.core.display.HTML object>",
            "text/html": "<table style=\"width:100%\"><tr><th>Experiment</th><th>Id</th><th>Type</th><th>Status</th><th>Details Page</th><th>Docs Page</th></tr><tr><td>og-azureml-capstone</td><td>AutoML_519c5605-dfcf-49d0-8459-d6dc1a62acc4</td><td>automl</td><td>NotStarted</td><td><a href=\"https://ml.azure.com/runs/AutoML_519c5605-dfcf-49d0-8459-d6dc1a62acc4?wsid=/subscriptions/510b94ba-e453-4417-988b-fbdc37b55ca7/resourcegroups/aml-quickstarts-143094/workspaces/quick-starts-ws-143094&amp;tid=660b3398-b80e-49d2-bc5b-ac1dc93b5254\" target=\"_blank\" rel=\"noopener\">Link to Azure Machine Learning studio</a></td><td><a href=\"https://docs.microsoft.com/en-us/python/api/overview/azure/ml/intro?view=azure-ml-py\" target=\"_blank\" rel=\"noopener\">Link to Documentation</a></td></tr></table>"
          },
          "metadata": {}
        }
      ],
      "execution_count": 10,
      "metadata": {
        "gather": {
          "logged": 1618791905661
        },
        "jupyter": {
          "outputs_hidden": false,
          "source_hidden": false
        },
        "nteract": {
          "transient": {
            "deleting": false
          }
        }
      }
    },
    {
      "cell_type": "markdown",
      "source": [
        "## Run Details\n",
        "\n",
        "OPTIONAL: Write about the different models trained and their performance. Why do you think some models did better than others?\n",
        "\n",
        "**Top three models**\n",
        "1. \n",
        "2. \n",
        "3. \n",
        "\n",
        "TODO: In the cell below, use the `RunDetails` widget to show the different experiments."
      ],
      "metadata": {}
    },
    {
      "cell_type": "code",
      "source": [
        "# Show Run Details\n",
        "RunDetails(remote_run).show()\n",
        "remote_run.wait_for_completion(show_output=True)"
      ],
      "outputs": [
        {
          "output_type": "display_data",
          "data": {
            "text/plain": "_AutoMLWidget(widget_settings={'childWidgetDisplay': 'popup', 'send_telemetry': False, 'log_level': 'INFO', 's…",
            "application/vnd.jupyter.widget-view+json": {
              "version_major": 2,
              "version_minor": 0,
              "model_id": "cb1c2896bca24b08a3fd76b443836614"
            }
          },
          "metadata": {}
        },
        {
          "output_type": "display_data",
          "data": {
            "application/aml.mini.widget.v1": "{\"status\": \"Completed\", \"workbench_run_details_uri\": \"https://ml.azure.com/runs/AutoML_519c5605-dfcf-49d0-8459-d6dc1a62acc4?wsid=/subscriptions/510b94ba-e453-4417-988b-fbdc37b55ca7/resourcegroups/aml-quickstarts-143094/workspaces/quick-starts-ws-143094&tid=660b3398-b80e-49d2-bc5b-ac1dc93b5254\", \"run_id\": \"AutoML_519c5605-dfcf-49d0-8459-d6dc1a62acc4\", \"run_properties\": {\"run_id\": \"AutoML_519c5605-dfcf-49d0-8459-d6dc1a62acc4\", \"created_utc\": \"2021-04-19T00:25:03.621855Z\", \"properties\": {\"num_iterations\": \"1000\", \"training_type\": \"TrainFull\", \"acquisition_function\": \"EI\", \"primary_metric\": \"accuracy\", \"train_split\": \"0\", \"acquisition_parameter\": \"0\", \"num_cross_validation\": \"3\", \"target\": \"notebook143094\", \"AMLSettingsJsonString\": \"{\\\"path\\\":null,\\\"name\\\":\\\"og-azureml-capstone\\\",\\\"subscription_id\\\":\\\"510b94ba-e453-4417-988b-fbdc37b55ca7\\\",\\\"resource_group\\\":\\\"aml-quickstarts-143094\\\",\\\"workspace_name\\\":\\\"quick-starts-ws-143094\\\",\\\"region\\\":\\\"southcentralus\\\",\\\"compute_target\\\":\\\"notebook143094\\\",\\\"spark_service\\\":null,\\\"azure_service\\\":\\\"remote\\\",\\\"many_models\\\":false,\\\"pipeline_fetch_max_batch_size\\\":1,\\\"enable_batch_run\\\":false,\\\"enable_run_restructure\\\":false,\\\"iterations\\\":1000,\\\"primary_metric\\\":\\\"accuracy\\\",\\\"task_type\\\":\\\"classification\\\",\\\"data_script\\\":null,\\\"test_size\\\":0.0,\\\"validation_size\\\":0.0,\\\"n_cross_validations\\\":3,\\\"y_min\\\":null,\\\"y_max\\\":null,\\\"num_classes\\\":null,\\\"featurization\\\":\\\"auto\\\",\\\"_ignore_package_version_incompatibilities\\\":false,\\\"is_timeseries\\\":false,\\\"max_cores_per_iteration\\\":1,\\\"max_concurrent_iterations\\\":5,\\\"iteration_timeout_minutes\\\":null,\\\"mem_in_mb\\\":null,\\\"enforce_time_on_windows\\\":false,\\\"experiment_timeout_minutes\\\":20,\\\"experiment_exit_score\\\":null,\\\"whitelist_models\\\":null,\\\"blacklist_algos\\\":[\\\"TensorFlowLinearClassifier\\\",\\\"TensorFlowDNN\\\"],\\\"supported_models\\\":[\\\"AveragedPerceptronClassifier\\\",\\\"TensorFlowLinearClassifier\\\",\\\"LogisticRegression\\\",\\\"MultinomialNaiveBayes\\\",\\\"KNN\\\",\\\"SVM\\\",\\\"RandomForest\\\",\\\"LightGBM\\\",\\\"TensorFlowDNN\\\",\\\"LinearSVM\\\",\\\"XGBoostClassifier\\\",\\\"GradientBoosting\\\",\\\"BernoulliNaiveBayes\\\",\\\"DecisionTree\\\",\\\"ExtremeRandomTrees\\\",\\\"SGD\\\"],\\\"private_models\\\":[],\\\"auto_blacklist\\\":true,\\\"blacklist_samples_reached\\\":false,\\\"exclude_nan_labels\\\":true,\\\"verbosity\\\":20,\\\"_debug_log\\\":\\\"azureml_automl.log\\\",\\\"show_warnings\\\":false,\\\"model_explainability\\\":true,\\\"service_url\\\":null,\\\"sdk_url\\\":null,\\\"sdk_packages\\\":null,\\\"enable_onnx_compatible_models\\\":false,\\\"enable_split_onnx_featurizer_estimator_models\\\":false,\\\"vm_type\\\":\\\"STANDARD_DS3_V2\\\",\\\"telemetry_verbosity\\\":20,\\\"send_telemetry\\\":true,\\\"enable_dnn\\\":false,\\\"scenario\\\":\\\"SDK-1.13.0\\\",\\\"environment_label\\\":null,\\\"save_mlflow\\\":false,\\\"force_text_dnn\\\":false,\\\"enable_feature_sweeping\\\":true,\\\"enable_early_stopping\\\":true,\\\"early_stopping_n_iters\\\":10,\\\"metrics\\\":null,\\\"enable_metric_confidence\\\":false,\\\"enable_ensembling\\\":true,\\\"enable_stack_ensembling\\\":true,\\\"ensemble_iterations\\\":15,\\\"enable_tf\\\":false,\\\"enable_subsampling\\\":null,\\\"subsample_seed\\\":null,\\\"enable_nimbusml\\\":false,\\\"enable_streaming\\\":false,\\\"force_streaming\\\":false,\\\"track_child_runs\\\":true,\\\"allowed_private_models\\\":[],\\\"label_column_name\\\":\\\"Attrition\\\",\\\"weight_column_name\\\":null,\\\"cv_split_column_names\\\":null,\\\"enable_local_managed\\\":false,\\\"_local_managed_run_id\\\":null,\\\"cost_mode\\\":1,\\\"lag_length\\\":0,\\\"metric_operation\\\":\\\"maximize\\\",\\\"preprocess\\\":true}\", \"DataPrepJsonString\": \"{\\\\\\\"training_data\\\\\\\": {\\\\\\\"datasetId\\\\\\\": \\\\\\\"d5abcedd-30c7-4c2d-bc66-c670a230287b\\\\\\\"}, \\\\\\\"datasets\\\\\\\": 0}\", \"EnableSubsampling\": null, \"runTemplate\": \"AutoML\", \"azureml.runsource\": \"automl\", \"display_task_type\": \"classification\", \"dependencies_versions\": \"{\\\"azureml-widgets\\\": \\\"1.26.0\\\", \\\"azureml-train\\\": \\\"1.26.0\\\", \\\"azureml-train-restclients-hyperdrive\\\": \\\"1.26.0\\\", \\\"azureml-train-core\\\": \\\"1.26.0\\\", \\\"azureml-train-automl\\\": \\\"1.26.0\\\", \\\"azureml-train-automl-runtime\\\": \\\"1.26.0\\\", \\\"azureml-train-automl-client\\\": \\\"1.26.0\\\", \\\"azureml-tensorboard\\\": \\\"1.26.0\\\", \\\"azureml-telemetry\\\": \\\"1.26.0\\\", \\\"azureml-sdk\\\": \\\"1.26.0\\\", \\\"azureml-samples\\\": \\\"0+unknown\\\", \\\"azureml-pipeline\\\": \\\"1.26.0\\\", \\\"azureml-pipeline-steps\\\": \\\"1.26.0\\\", \\\"azureml-pipeline-core\\\": \\\"1.26.0\\\", \\\"azureml-opendatasets\\\": \\\"1.26.0\\\", \\\"azureml-model-management-sdk\\\": \\\"1.0.1b6.post1\\\", \\\"azureml-mlflow\\\": \\\"1.26.0\\\", \\\"azureml-interpret\\\": \\\"1.26.0\\\", \\\"azureml-explain-model\\\": \\\"1.26.0\\\", \\\"azureml-defaults\\\": \\\"1.26.0\\\", \\\"azureml-dataset-runtime\\\": \\\"1.26.0\\\", \\\"azureml-dataprep\\\": \\\"2.13.2\\\", \\\"azureml-dataprep-rslex\\\": \\\"1.11.2\\\", \\\"azureml-dataprep-native\\\": \\\"32.0.0\\\", \\\"azureml-datadrift\\\": \\\"1.26.0\\\", \\\"azureml-core\\\": \\\"1.26.0\\\", \\\"azureml-contrib-services\\\": \\\"1.26.0\\\", \\\"azureml-contrib-server\\\": \\\"1.26.0\\\", \\\"azureml-contrib-reinforcementlearning\\\": \\\"1.26.0\\\", \\\"azureml-contrib-pipeline-steps\\\": \\\"1.26.0\\\", \\\"azureml-contrib-notebook\\\": \\\"1.26.0\\\", \\\"azureml-contrib-gbdt\\\": \\\"1.26.0\\\", \\\"azureml-contrib-fairness\\\": \\\"1.26.0\\\", \\\"azureml-contrib-dataset\\\": \\\"1.26.0\\\", \\\"azureml-cli-common\\\": \\\"1.26.0\\\", \\\"azureml-automl-runtime\\\": \\\"1.26.0\\\", \\\"azureml-automl-dnn-nlp\\\": \\\"1.26.0\\\", \\\"azureml-automl-core\\\": \\\"1.26.0\\\", \\\"azureml-accel-models\\\": \\\"1.26.0\\\"}\", \"_aml_system_scenario_identification\": \"Remote.Parent\", \"ClientType\": \"SDK\", \"environment_cpu_name\": \"AzureML-AutoML\", \"environment_cpu_label\": \"prod\", \"environment_gpu_name\": \"AzureML-AutoML-GPU\", \"environment_gpu_label\": \"prod\", \"root_attribution\": \"automl\", \"attribution\": \"AutoML\", \"Orchestrator\": \"AutoML\", \"CancelUri\": \"https://southcentralus.experiments.azureml.net/jasmine/v1.0/subscriptions/510b94ba-e453-4417-988b-fbdc37b55ca7/resourceGroups/aml-quickstarts-143094/providers/Microsoft.MachineLearningServices/workspaces/quick-starts-ws-143094/experimentids/d5fbd018-46c8-4b3b-a442-58b3ca8f05f8/cancel/AutoML_519c5605-dfcf-49d0-8459-d6dc1a62acc4\", \"ClientSdkVersion\": \"1.25.0\", \"snapshotId\": \"00000000-0000-0000-0000-000000000000\", \"SetupRunId\": \"AutoML_519c5605-dfcf-49d0-8459-d6dc1a62acc4_setup\", \"SetupRunContainerId\": \"dcid.AutoML_519c5605-dfcf-49d0-8459-d6dc1a62acc4_setup\", \"FeaturizationRunJsonPath\": \"featurizer_container.json\", \"FeaturizationRunId\": \"AutoML_519c5605-dfcf-49d0-8459-d6dc1a62acc4_featurize\", \"ProblemInfoJsonString\": \"{\\\"dataset_num_categorical\\\": 0, \\\"is_sparse\\\": false, \\\"subsampling\\\": false, \\\"dataset_classes\\\": 2, \\\"dataset_features\\\": 44, \\\"dataset_samples\\\": 1102, \\\"single_frequency_class_detected\\\": false}\", \"ModelExplainRunId\": \"AutoML_519c5605-dfcf-49d0-8459-d6dc1a62acc4_ModelExplain\"}, \"tags\": {\"model_explain_run\": \"best_run\", \"_aml_system_azureml.automlComponent\": \"AutoML\", \"pipeline_id\": \"\", \"score\": \"\", \"predicted_cost\": \"\", \"fit_time\": \"\", \"training_percent\": \"\", \"iteration\": \"\", \"run_preprocessor\": \"\", \"run_algorithm\": \"\", \"automl_best_child_run_id\": \"AutoML_519c5605-dfcf-49d0-8459-d6dc1a62acc4_21\", \"model_explain_best_run_child_id\": \"AutoML_519c5605-dfcf-49d0-8459-d6dc1a62acc4_21\"}, \"end_time_utc\": \"2021-04-19T01:06:45.136762Z\", \"status\": \"Completed\", \"log_files\": {}, \"log_groups\": [], \"run_duration\": \"0:41:41\", \"run_number\": \"2\", \"run_queued_details\": {\"status\": \"Completed\", \"details\": null}}, \"child_runs\": [{\"run_id\": \"AutoML_519c5605-dfcf-49d0-8459-d6dc1a62acc4_0\", \"run_number\": 6, \"metric\": null, \"status\": \"Completed\", \"run_type\": \"azureml.scriptrun\", \"training_percent\": \"100\", \"start_time\": \"2021-04-19T00:39:33.141554Z\", \"end_time\": \"2021-04-19T00:45:41.487717Z\", \"created_time\": \"2021-04-19T00:39:19.26423Z\", \"created_time_dt\": \"2021-04-19T00:39:19.26423Z\", \"duration\": \"0:06:22\", \"iteration\": \"0\", \"goal\": \"accuracy_max\", \"run_name\": \"MaxAbsScaler, LightGBM\", \"run_properties\": \"copy=True\", \"primary_metric\": 0.84846286, \"best_metric\": 0.84846286}, {\"run_id\": \"AutoML_519c5605-dfcf-49d0-8459-d6dc1a62acc4_4\", \"run_number\": 7, \"metric\": null, \"status\": \"Completed\", \"run_type\": \"azureml.scriptrun\", \"training_percent\": \"100\", \"start_time\": \"2021-04-19T00:39:33.521749Z\", \"end_time\": \"2021-04-19T00:45:38.153987Z\", \"created_time\": \"2021-04-19T00:39:19.283763Z\", \"created_time_dt\": \"2021-04-19T00:39:19.283763Z\", \"duration\": \"0:06:18\", \"iteration\": \"4\", \"goal\": \"accuracy_max\", \"run_name\": \"MinMaxScaler, RandomForest\", \"run_properties\": \"copy=True, feature_range=(0, 1\", \"primary_metric\": 0.83121323, \"best_metric\": 0.84937853}, {\"run_id\": \"AutoML_519c5605-dfcf-49d0-8459-d6dc1a62acc4_3\", \"run_number\": 8, \"metric\": null, \"status\": \"Completed\", \"run_type\": \"azureml.scriptrun\", \"training_percent\": \"100\", \"start_time\": \"2021-04-19T00:39:32.134671Z\", \"end_time\": \"2021-04-19T00:45:32.220985Z\", \"created_time\": \"2021-04-19T00:39:19.289859Z\", \"created_time_dt\": \"2021-04-19T00:39:19.289859Z\", \"duration\": \"0:06:12\", \"iteration\": \"3\", \"goal\": \"accuracy_max\", \"run_name\": \"MinMaxScaler, RandomForest\", \"run_properties\": \"copy=True, feature_range=(0, 1\", \"primary_metric\": 0.83848181, \"best_metric\": 0.84937853}, {\"run_id\": \"AutoML_519c5605-dfcf-49d0-8459-d6dc1a62acc4_2\", \"run_number\": 9, \"metric\": null, \"status\": \"Completed\", \"run_type\": \"azureml.scriptrun\", \"training_percent\": \"100\", \"start_time\": \"2021-04-19T00:39:32.619893Z\", \"end_time\": \"2021-04-19T00:45:37.825902Z\", \"created_time\": \"2021-04-19T00:39:19.322329Z\", \"created_time_dt\": \"2021-04-19T00:39:19.322329Z\", \"duration\": \"0:06:18\", \"iteration\": \"2\", \"goal\": \"accuracy_max\", \"run_name\": \"MinMaxScaler, RandomForest\", \"run_properties\": \"copy=True, feature_range=(0, 1\", \"primary_metric\": 0.84211488, \"best_metric\": 0.84937853}, {\"run_id\": \"AutoML_519c5605-dfcf-49d0-8459-d6dc1a62acc4_1\", \"run_number\": 10, \"metric\": null, \"status\": \"Completed\", \"run_type\": \"azureml.scriptrun\", \"training_percent\": \"100\", \"start_time\": \"2021-04-19T00:39:34.180826Z\", \"end_time\": \"2021-04-19T00:45:37.364157Z\", \"created_time\": \"2021-04-19T00:39:19.31279Z\", \"created_time_dt\": \"2021-04-19T00:39:19.31279Z\", \"duration\": \"0:06:18\", \"iteration\": \"1\", \"goal\": \"accuracy_max\", \"run_name\": \"MaxAbsScaler, XGBoostClassifier\", \"run_properties\": \"copy=True\", \"primary_metric\": 0.84937853, \"best_metric\": 0.84937853}, {\"run_id\": \"AutoML_519c5605-dfcf-49d0-8459-d6dc1a62acc4_5\", \"run_number\": 11, \"metric\": null, \"status\": \"Completed\", \"run_type\": \"azureml.scriptrun\", \"training_percent\": \"100\", \"start_time\": \"2021-04-19T00:45:50.925826Z\", \"end_time\": \"2021-04-19T00:51:37.240631Z\", \"created_time\": \"2021-04-19T00:45:36.163267Z\", \"created_time_dt\": \"2021-04-19T00:45:36.163267Z\", \"duration\": \"0:06:01\", \"iteration\": \"5\", \"goal\": \"accuracy_max\", \"run_name\": \"StandardScalerWrapper, XGBoostClassifier\", \"run_properties\": \"<azureml.automl.runtime.shared.model_wrappers.StandardScalerWrapper object at 0x7f69d88bbe48\", \"primary_metric\": 0.84755213, \"best_metric\": 0.84937853}, {\"run_id\": \"AutoML_519c5605-dfcf-49d0-8459-d6dc1a62acc4_8\", \"run_number\": 12, \"metric\": null, \"status\": \"Completed\", \"run_type\": \"azureml.scriptrun\", \"training_percent\": \"100\", \"start_time\": \"2021-04-19T00:45:52.38698Z\", \"end_time\": \"2021-04-19T00:51:39.850022Z\", \"created_time\": \"2021-04-19T00:45:43.014055Z\", \"created_time_dt\": \"2021-04-19T00:45:43.014055Z\", \"duration\": \"0:05:56\", \"iteration\": \"8\", \"goal\": \"accuracy_max\", \"run_name\": \"SparseNormalizer, XGBoostClassifier\", \"run_properties\": \"<azureml.automl.runtime.shared.model_wrappers.SparseNormalizer object at 0x7fb0928fd550\", \"primary_metric\": 0.85118766, \"best_metric\": 0.85118766}, {\"run_id\": \"AutoML_519c5605-dfcf-49d0-8459-d6dc1a62acc4_6\", \"run_number\": 13, \"metric\": null, \"status\": \"Completed\", \"run_type\": \"azureml.scriptrun\", \"training_percent\": \"100\", \"start_time\": \"2021-04-19T00:45:52.853484Z\", \"end_time\": \"2021-04-19T00:51:42.057034Z\", \"created_time\": \"2021-04-19T00:45:43.066417Z\", \"created_time_dt\": \"2021-04-19T00:45:43.066417Z\", \"duration\": \"0:05:58\", \"iteration\": \"6\", \"goal\": \"accuracy_max\", \"run_name\": \"MinMaxScaler, SVM\", \"run_properties\": \"copy=True, feature_range=(0, 1\", \"primary_metric\": 0.84936125, \"best_metric\": 0.84937853}, {\"run_id\": \"AutoML_519c5605-dfcf-49d0-8459-d6dc1a62acc4_7\", \"run_number\": 14, \"metric\": null, \"status\": \"Completed\", \"run_type\": \"azureml.scriptrun\", \"training_percent\": \"100\", \"start_time\": \"2021-04-19T00:45:57.318758Z\", \"end_time\": \"2021-04-19T00:51:49.934367Z\", \"created_time\": \"2021-04-19T00:45:43.227886Z\", \"created_time_dt\": \"2021-04-19T00:45:43.227886Z\", \"duration\": \"0:06:06\", \"iteration\": \"7\", \"goal\": \"accuracy_max\", \"run_name\": \"SparseNormalizer, XGBoostClassifier\", \"run_properties\": \"<azureml.automl.runtime.shared.model_wrappers.SparseNormalizer object at 0x7fe839046898\", \"primary_metric\": 0.84392894, \"best_metric\": 0.84937853}, {\"run_id\": \"AutoML_519c5605-dfcf-49d0-8459-d6dc1a62acc4_9\", \"run_number\": 15, \"metric\": null, \"status\": \"Completed\", \"run_type\": \"azureml.scriptrun\", \"training_percent\": \"100\", \"start_time\": \"2021-04-19T00:46:02.457488Z\", \"end_time\": \"2021-04-19T00:51:50.783424Z\", \"created_time\": \"2021-04-19T00:45:51.661045Z\", \"created_time_dt\": \"2021-04-19T00:45:51.661045Z\", \"duration\": \"0:05:59\", \"iteration\": \"9\", \"goal\": \"accuracy_max\", \"run_name\": \"SparseNormalizer, XGBoostClassifier\", \"run_properties\": \"<azureml.automl.runtime.shared.model_wrappers.SparseNormalizer object at 0x7fc7572a23c8\", \"primary_metric\": 0.85481331, \"best_metric\": 0.85481331}, {\"run_id\": \"AutoML_519c5605-dfcf-49d0-8459-d6dc1a62acc4_10\", \"run_number\": 16, \"metric\": null, \"status\": \"Completed\", \"run_type\": \"azureml.scriptrun\", \"training_percent\": \"100\", \"start_time\": \"2021-04-19T00:51:54.557333Z\", \"end_time\": \"2021-04-19T00:57:40.619772Z\", \"created_time\": \"2021-04-19T00:51:40.869843Z\", \"created_time_dt\": \"2021-04-19T00:51:40.869843Z\", \"duration\": \"0:05:59\", \"iteration\": \"10\", \"goal\": \"accuracy_max\", \"run_name\": \"SparseNormalizer, XGBoostClassifier\", \"run_properties\": \"<azureml.automl.runtime.shared.model_wrappers.SparseNormalizer object at 0x7f75eba03f98\", \"primary_metric\": 0.85119506, \"best_metric\": 0.85481331}, {\"run_id\": \"AutoML_519c5605-dfcf-49d0-8459-d6dc1a62acc4_12\", \"run_number\": 17, \"metric\": null, \"status\": \"Completed\", \"run_type\": \"azureml.scriptrun\", \"training_percent\": \"100\", \"start_time\": \"2021-04-19T00:51:58.116701Z\", \"end_time\": \"2021-04-19T00:57:36.967117Z\", \"created_time\": \"2021-04-19T00:51:49.097039Z\", \"created_time_dt\": \"2021-04-19T00:51:49.097039Z\", \"duration\": \"0:05:47\", \"iteration\": \"12\", \"goal\": \"accuracy_max\", \"run_name\": \"MaxAbsScaler, GradientBoosting\", \"run_properties\": \"copy=True\", \"primary_metric\": 0.85118519, \"best_metric\": 0.85481331}, {\"run_id\": \"AutoML_519c5605-dfcf-49d0-8459-d6dc1a62acc4_11\", \"run_number\": 18, \"metric\": null, \"status\": \"Completed\", \"run_type\": \"azureml.scriptrun\", \"training_percent\": \"100\", \"start_time\": \"2021-04-19T00:52:01.671342Z\", \"end_time\": \"2021-04-19T00:57:55.340844Z\", \"created_time\": \"2021-04-19T00:51:49.107027Z\", \"created_time_dt\": \"2021-04-19T00:51:49.107027Z\", \"duration\": \"0:06:06\", \"iteration\": \"11\", \"goal\": \"accuracy_max\", \"run_name\": \"MaxAbsScaler, ExtremeRandomTrees\", \"run_properties\": \"copy=True\", \"primary_metric\": 0.84392894, \"best_metric\": 0.85481331}, {\"run_id\": \"AutoML_519c5605-dfcf-49d0-8459-d6dc1a62acc4_13\", \"run_number\": 19, \"metric\": null, \"status\": \"Completed\", \"run_type\": \"azureml.scriptrun\", \"training_percent\": \"100\", \"start_time\": \"2021-04-19T00:52:07.507515Z\", \"end_time\": \"2021-04-19T00:57:49.036793Z\", \"created_time\": \"2021-04-19T00:51:57.774993Z\", \"created_time_dt\": \"2021-04-19T00:51:57.774993Z\", \"duration\": \"0:05:51\", \"iteration\": \"13\", \"goal\": \"accuracy_max\", \"run_name\": \"MaxAbsScaler, LightGBM\", \"run_properties\": \"copy=True\", \"primary_metric\": 0.85209345, \"best_metric\": 0.85481331}, {\"run_id\": \"AutoML_519c5605-dfcf-49d0-8459-d6dc1a62acc4_14\", \"run_number\": 20, \"metric\": null, \"status\": \"Completed\", \"run_type\": \"azureml.scriptrun\", \"training_percent\": \"100\", \"start_time\": \"2021-04-19T00:52:08.084789Z\", \"end_time\": \"2021-04-19T00:57:55.828908Z\", \"created_time\": \"2021-04-19T00:51:57.797009Z\", \"created_time_dt\": \"2021-04-19T00:51:57.797009Z\", \"duration\": \"0:05:58\", \"iteration\": \"14\", \"goal\": \"accuracy_max\", \"run_name\": \"MinMaxScaler, LightGBM\", \"run_properties\": \"copy=True, feature_range=(0, 1\", \"primary_metric\": 0.84937113, \"best_metric\": 0.85481331}, {\"run_id\": \"AutoML_519c5605-dfcf-49d0-8459-d6dc1a62acc4_15\", \"run_number\": 21, \"metric\": null, \"status\": \"Canceled\", \"run_type\": \"azureml.scriptrun\", \"training_percent\": \"100\", \"start_time\": \"2021-04-19T00:57:57.071225Z\", \"end_time\": \"2021-04-19T01:00:17.621131Z\", \"created_time\": \"2021-04-19T00:57:40.993386Z\", \"created_time_dt\": \"2021-04-19T00:57:40.993386Z\", \"duration\": \"0:02:36\", \"iteration\": \"15\", \"goal\": null, \"run_name\": \"Canceled\", \"run_properties\": null}, {\"run_id\": \"AutoML_519c5605-dfcf-49d0-8459-d6dc1a62acc4_16\", \"run_number\": 22, \"metric\": null, \"status\": \"Canceled\", \"run_type\": \"azureml.scriptrun\", \"training_percent\": \"100\", \"start_time\": \"2021-04-19T00:57:58.80466Z\", \"end_time\": \"2021-04-19T01:00:17.521407Z\", \"created_time\": \"2021-04-19T00:57:49.348751Z\", \"created_time_dt\": \"2021-04-19T00:57:49.348751Z\", \"duration\": \"0:02:28\", \"iteration\": \"16\", \"goal\": null, \"run_name\": \"Canceled\", \"run_properties\": null}, {\"run_id\": \"AutoML_519c5605-dfcf-49d0-8459-d6dc1a62acc4_17\", \"run_number\": 23, \"metric\": null, \"status\": \"Canceled\", \"run_type\": \"azureml.scriptrun\", \"training_percent\": \"100\", \"start_time\": \"2021-04-19T00:58:05.066928Z\", \"end_time\": \"2021-04-19T01:00:17.553007Z\", \"created_time\": \"2021-04-19T00:57:53.95703Z\", \"created_time_dt\": \"2021-04-19T00:57:53.95703Z\", \"duration\": \"0:02:23\", \"iteration\": \"17\", \"goal\": null, \"run_name\": \"Canceled\", \"run_properties\": null}, {\"run_id\": \"AutoML_519c5605-dfcf-49d0-8459-d6dc1a62acc4_19\", \"run_number\": 24, \"metric\": null, \"status\": \"Canceled\", \"run_type\": \"azureml.scriptrun\", \"training_percent\": \"100\", \"start_time\": \"2021-04-19T00:58:10.590973Z\", \"end_time\": \"2021-04-19T01:00:17.8505Z\", \"created_time\": \"2021-04-19T00:57:59.070214Z\", \"created_time_dt\": \"2021-04-19T00:57:59.070214Z\", \"duration\": \"0:02:18\", \"iteration\": \"19\", \"goal\": null, \"run_name\": \"Canceled\", \"run_properties\": null}, {\"run_id\": \"AutoML_519c5605-dfcf-49d0-8459-d6dc1a62acc4_18\", \"run_number\": 25, \"metric\": null, \"status\": \"Canceled\", \"run_type\": \"azureml.scriptrun\", \"training_percent\": \"100\", \"start_time\": \"2021-04-19T00:58:10.69591Z\", \"end_time\": \"2021-04-19T01:00:17.800642Z\", \"created_time\": \"2021-04-19T00:57:59.427761Z\", \"created_time_dt\": \"2021-04-19T00:57:59.427761Z\", \"duration\": \"0:02:18\", \"iteration\": \"18\", \"goal\": null, \"run_name\": \"Canceled\", \"run_properties\": null}, {\"run_id\": \"AutoML_519c5605-dfcf-49d0-8459-d6dc1a62acc4_20\", \"run_number\": 26, \"metric\": null, \"status\": \"Completed\", \"run_type\": \"azureml.scriptrun\", \"training_percent\": \"100\", \"start_time\": \"2021-04-19T01:00:30.427435Z\", \"end_time\": \"2021-04-19T01:06:39.584073Z\", \"created_time\": \"2021-04-19T01:00:19.314984Z\", \"created_time_dt\": \"2021-04-19T01:00:19.314984Z\", \"duration\": \"0:06:20\", \"iteration\": \"20\", \"goal\": \"accuracy_max\", \"run_name\": \"VotingEnsemble\", \"run_properties\": \"classification_labels=None,\\n                              estimators=[('9',\\n                                           Pipeline(memory=None,\\n                                                    steps=[('sparsenormalizer',\\n                                                            <azureml.automl.runtime.shared.model_wrappers.SparseNormalizer object at 0x7fafc5f6eb00>\", \"primary_metric\": 0.85572651, \"best_metric\": 0.85572651}, {\"run_id\": \"AutoML_519c5605-dfcf-49d0-8459-d6dc1a62acc4_21\", \"run_number\": 27, \"metric\": null, \"status\": \"Completed\", \"run_type\": \"azureml.scriptrun\", \"training_percent\": \"100\", \"start_time\": \"2021-04-19T01:00:32.214483Z\", \"end_time\": \"2021-04-19T01:06:39.860622Z\", \"created_time\": \"2021-04-19T01:00:19.337341Z\", \"created_time_dt\": \"2021-04-19T01:00:19.337341Z\", \"duration\": \"0:06:20\", \"iteration\": \"21\", \"goal\": \"accuracy_max\", \"run_name\": \"StackEnsemble\", \"run_properties\": \"base_learners=[('9',\\n                                        Pipeline(memory=None,\\n                                                 steps=[('sparsenormalizer',\\n                                                         <azureml.automl.runtime.shared.model_wrappers.SparseNormalizer object at 0x7f444815efd0>\", \"primary_metric\": 0.8566175, \"best_metric\": 0.8566175}], \"children_metrics\": {\"categories\": [0], \"series\": {\"recall_score_macro\": [{\"categories\": [\"0\", \"1\", \"2\", \"3\", \"4\", \"5\", \"6\", \"7\", \"8\", \"9\", \"10\", \"11\", \"12\", \"13\", \"14\", \"20\", \"21\"], \"mode\": \"markers\", \"name\": \"recall_score_macro\", \"stepped\": false, \"type\": \"scatter\", \"data\": [0.6105220060726958, 0.612149745843818, 0.5175716066341066, 0.5, 0.6676658932711724, 0.5616172130982812, 0.5715908672925611, 0.5922377263765328, 0.6006673482252723, 0.612367015750167, 0.6186284458501508, 0.5294179237727624, 0.5574818821587085, 0.5573890666729475, 0.5357927522746071, 0.59337752498707, 0.6349072598131758]}, {\"categories\": [\"0\", \"1\", \"2\", \"3\", \"4\", \"5\", \"6\", \"7\", \"8\", \"9\", \"10\", \"11\", \"12\", \"13\", \"14\", \"20\", \"21\"], \"mode\": \"lines\", \"name\": \"recall_score_macro_max\", \"stepped\": true, \"type\": \"scatter\", \"data\": [0.6105220060726958, 0.612149745843818, 0.612149745843818, 0.612149745843818, 0.6676658932711724, 0.6676658932711724, 0.6676658932711724, 0.6676658932711724, 0.6676658932711724, 0.6676658932711724, 0.6676658932711724, 0.6676658932711724, 0.6676658932711724, 0.6676658932711724, 0.6676658932711724, 0.6676658932711724, 0.6676658932711724]}], \"f1_score_weighted\": [{\"categories\": [\"0\", \"1\", \"2\", \"3\", \"4\", \"5\", \"6\", \"7\", \"8\", \"9\", \"10\", \"11\", \"12\", \"13\", \"14\", \"20\", \"21\"], \"mode\": \"markers\", \"name\": \"f1_score_weighted\", \"stepped\": false, \"type\": \"scatter\", \"data\": [0.8204827853693465, 0.824459046256055, 0.7760936344925119, 0.7648825808797871, 0.8271183066708359, 0.8030273751339866, 0.8070423157441914, 0.8134680763195892, 0.8206043796345474, 0.8281187380377485, 0.8271013769241745, 0.7818327982730192, 0.8018410458011975, 0.8028755464044167, 0.789300835551162, 0.8210913024063653, 0.8310698399087233]}, {\"categories\": [\"0\", \"1\", \"2\", \"3\", \"4\", \"5\", \"6\", \"7\", \"8\", \"9\", \"10\", \"11\", \"12\", \"13\", \"14\", \"20\", \"21\"], \"mode\": \"lines\", \"name\": \"f1_score_weighted_max\", \"stepped\": true, \"type\": \"scatter\", \"data\": [0.8204827853693465, 0.824459046256055, 0.824459046256055, 0.824459046256055, 0.8271183066708359, 0.8271183066708359, 0.8271183066708359, 0.8271183066708359, 0.8271183066708359, 0.8281187380377485, 0.8281187380377485, 0.8281187380377485, 0.8281187380377485, 0.8281187380377485, 0.8281187380377485, 0.8281187380377485, 0.8310698399087233]}], \"average_precision_score_weighted\": [{\"categories\": [\"0\", \"1\", \"2\", \"3\", \"4\", \"5\", \"6\", \"7\", \"8\", \"9\", \"10\", \"11\", \"12\", \"13\", \"14\", \"20\", \"21\"], \"mode\": \"markers\", \"name\": \"average_precision_score_weighted\", \"stepped\": false, \"type\": \"scatter\", \"data\": [0.8567767802095191, 0.8597221294168, 0.8501599335717378, 0.8510018787263564, 0.8452617774937176, 0.8569011564077794, 0.8558576273423119, 0.8437164380137485, 0.8565695099708895, 0.8653556810420026, 0.8607856495646432, 0.8638383688515736, 0.8665948578217546, 0.864322708082648, 0.86110587301437, 0.8698234066900388, 0.8751121183362605]}, {\"categories\": [\"0\", \"1\", \"2\", \"3\", \"4\", \"5\", \"6\", \"7\", \"8\", \"9\", \"10\", \"11\", \"12\", \"13\", \"14\", \"20\", \"21\"], \"mode\": \"lines\", \"name\": \"average_precision_score_weighted_max\", \"stepped\": true, \"type\": \"scatter\", \"data\": [0.8567767802095191, 0.8597221294168, 0.8597221294168, 0.8597221294168, 0.8597221294168, 0.8597221294168, 0.8597221294168, 0.8597221294168, 0.8597221294168, 0.8653556810420026, 0.8653556810420026, 0.8653556810420026, 0.8665948578217546, 0.8665948578217546, 0.8665948578217546, 0.8698234066900388, 0.8751121183362605]}], \"precision_score_micro\": [{\"categories\": [\"0\", \"1\", \"2\", \"3\", \"4\", \"5\", \"6\", \"7\", \"8\", \"9\", \"10\", \"11\", \"12\", \"13\", \"14\", \"20\", \"21\"], \"mode\": \"markers\", \"name\": \"precision_score_micro\", \"stepped\": false, \"type\": \"scatter\", \"data\": [0.8484628598507286, 0.84937852940015, 0.8421148758046044, 0.8384818149508352, 0.8312132251313035, 0.8475521265252932, 0.8493612526161987, 0.8439289381194962, 0.8511876554910556, 0.8548133120088458, 0.8511950598270347, 0.8439289381194962, 0.8511851873790626, 0.8520934525925048, 0.8493711250641708, 0.8557265134462742, 0.856617501875765]}, {\"categories\": [\"0\", \"1\", \"2\", \"3\", \"4\", \"5\", \"6\", \"7\", \"8\", \"9\", \"10\", \"11\", \"12\", \"13\", \"14\", \"20\", \"21\"], \"mode\": \"lines\", \"name\": \"precision_score_micro_max\", \"stepped\": true, \"type\": \"scatter\", \"data\": [0.8484628598507286, 0.84937852940015, 0.84937852940015, 0.84937852940015, 0.84937852940015, 0.84937852940015, 0.84937852940015, 0.84937852940015, 0.8511876554910556, 0.8548133120088458, 0.8548133120088458, 0.8548133120088458, 0.8548133120088458, 0.8548133120088458, 0.8548133120088458, 0.8557265134462742, 0.856617501875765]}], \"log_loss\": [{\"categories\": [\"0\", \"1\", \"2\", \"3\", \"4\", \"5\", \"6\", \"7\", \"8\", \"9\", \"10\", \"11\", \"12\", \"13\", \"14\", \"20\", \"21\"], \"mode\": \"markers\", \"name\": \"log_loss\", \"stepped\": false, \"type\": \"scatter\", \"data\": [0.49962863468188123, 0.37499237008838643, 0.384512931388399, 0.3925996258357545, 0.46787325406726216, 0.44086458463919104, 0.37895634418843444, 0.37941564812026424, 0.4106143271091285, 0.3891923524427223, 0.3806619605197267, 0.37557049480165633, 0.3673358606235874, 0.37296995631584, 0.3790098576853871, 0.36075037313284536, 0.36941290306752855]}, {\"categories\": [\"0\", \"1\", \"2\", \"3\", \"4\", \"5\", \"6\", \"7\", \"8\", \"9\", \"10\", \"11\", \"12\", \"13\", \"14\", \"20\", \"21\"], \"mode\": \"lines\", \"name\": \"log_loss_min\", \"stepped\": true, \"type\": \"scatter\", \"data\": [0.49962863468188123, 0.37499237008838643, 0.37499237008838643, 0.37499237008838643, 0.37499237008838643, 0.37499237008838643, 0.37499237008838643, 0.37499237008838643, 0.37499237008838643, 0.37499237008838643, 0.37499237008838643, 0.37499237008838643, 0.3673358606235874, 0.3673358606235874, 0.3673358606235874, 0.36075037313284536, 0.36075037313284536]}], \"f1_score_micro\": [{\"categories\": [\"0\", \"1\", \"2\", \"3\", \"4\", \"5\", \"6\", \"7\", \"8\", \"9\", \"10\", \"11\", \"12\", \"13\", \"14\", \"20\", \"21\"], \"mode\": \"markers\", \"name\": \"f1_score_micro\", \"stepped\": false, \"type\": \"scatter\", \"data\": [0.8484628598507286, 0.84937852940015, 0.8421148758046045, 0.8384818149508352, 0.8312132251313035, 0.8475521265252932, 0.8493612526161987, 0.843928938119496, 0.8511876554910556, 0.8548133120088458, 0.8511950598270347, 0.843928938119496, 0.8511851873790626, 0.8520934525925048, 0.849371125064171, 0.8557265134462742, 0.856617501875765]}, {\"categories\": [\"0\", \"1\", \"2\", \"3\", \"4\", \"5\", \"6\", \"7\", \"8\", \"9\", \"10\", \"11\", \"12\", \"13\", \"14\", \"20\", \"21\"], \"mode\": \"lines\", \"name\": \"f1_score_micro_max\", \"stepped\": true, \"type\": \"scatter\", \"data\": [0.8484628598507286, 0.84937852940015, 0.84937852940015, 0.84937852940015, 0.84937852940015, 0.84937852940015, 0.84937852940015, 0.84937852940015, 0.8511876554910556, 0.8548133120088458, 0.8548133120088458, 0.8548133120088458, 0.8548133120088458, 0.8548133120088458, 0.8548133120088458, 0.8557265134462742, 0.856617501875765]}], \"AUC_macro\": [{\"categories\": [\"0\", \"1\", \"2\", \"3\", \"4\", \"5\", \"6\", \"7\", \"8\", \"9\", \"10\", \"11\", \"12\", \"13\", \"14\", \"20\", \"21\"], \"mode\": \"markers\", \"name\": \"AUC_macro\", \"stepped\": false, \"type\": \"scatter\", \"data\": [0.7634487448108823, 0.76751704469046, 0.7554320095036625, 0.7582043972615841, 0.7484473599623102, 0.7720980487269801, 0.7582974141251659, 0.7433594999098055, 0.7617504930885591, 0.7735612125903355, 0.766537076675552, 0.7743979016535708, 0.7856345913526127, 0.779886667252924, 0.7759261418918406, 0.7837195098040745, 0.7949332475690104]}, {\"categories\": [\"0\", \"1\", \"2\", \"3\", \"4\", \"5\", \"6\", \"7\", \"8\", \"9\", \"10\", \"11\", \"12\", \"13\", \"14\", \"20\", \"21\"], \"mode\": \"lines\", \"name\": \"AUC_macro_max\", \"stepped\": true, \"type\": \"scatter\", \"data\": [0.7634487448108823, 0.76751704469046, 0.76751704469046, 0.76751704469046, 0.76751704469046, 0.7720980487269801, 0.7720980487269801, 0.7720980487269801, 0.7720980487269801, 0.7735612125903355, 0.7735612125903355, 0.7743979016535708, 0.7856345913526127, 0.7856345913526127, 0.7856345913526127, 0.7856345913526127, 0.7949332475690104]}], \"average_precision_score_macro\": [{\"categories\": [\"0\", \"1\", \"2\", \"3\", \"4\", \"5\", \"6\", \"7\", \"8\", \"9\", \"10\", \"11\", \"12\", \"13\", \"14\", \"20\", \"21\"], \"mode\": \"markers\", \"name\": \"average_precision_score_macro\", \"stepped\": false, \"type\": \"scatter\", \"data\": [0.7037685920347596, 0.711299092767514, 0.6887048091702731, 0.6955632368235632, 0.6806619760872633, 0.701733973978396, 0.6879574984273441, 0.6884591628397864, 0.7024059437436216, 0.7235240938446695, 0.7137907693033698, 0.7171128303098215, 0.7254416797910531, 0.7216786299516581, 0.720017645607471, 0.7288740796341578, 0.7372774617142205]}, {\"categories\": [\"0\", \"1\", \"2\", \"3\", \"4\", \"5\", \"6\", \"7\", \"8\", \"9\", \"10\", \"11\", \"12\", \"13\", \"14\", \"20\", \"21\"], \"mode\": \"lines\", \"name\": \"average_precision_score_macro_max\", \"stepped\": true, \"type\": \"scatter\", \"data\": [0.7037685920347596, 0.711299092767514, 0.711299092767514, 0.711299092767514, 0.711299092767514, 0.711299092767514, 0.711299092767514, 0.711299092767514, 0.711299092767514, 0.7235240938446695, 0.7235240938446695, 0.7235240938446695, 0.7254416797910531, 0.7254416797910531, 0.7254416797910531, 0.7288740796341578, 0.7372774617142205]}], \"average_precision_score_micro\": [{\"categories\": [\"0\", \"1\", \"2\", \"3\", \"4\", \"5\", \"6\", \"7\", \"8\", \"9\", \"10\", \"11\", \"12\", \"13\", \"14\", \"20\", \"21\"], \"mode\": \"markers\", \"name\": \"average_precision_score_micro\", \"stepped\": false, \"type\": \"scatter\", \"data\": [0.8990229251866122, 0.9008766120000128, 0.8954723559973278, 0.894304054215167, 0.876702906200987, 0.9001628242562921, 0.9034759632122894, 0.8874734810953298, 0.9000465596632834, 0.9037358558571683, 0.9012303454365768, 0.9022963781445412, 0.9041634733259328, 0.9023513534757313, 0.8984382698688737, 0.9077377734984472, 0.9088558369671617]}, {\"categories\": [\"0\", \"1\", \"2\", \"3\", \"4\", \"5\", \"6\", \"7\", \"8\", \"9\", \"10\", \"11\", \"12\", \"13\", \"14\", \"20\", \"21\"], \"mode\": \"lines\", \"name\": \"average_precision_score_micro_max\", \"stepped\": true, \"type\": \"scatter\", \"data\": [0.8990229251866122, 0.9008766120000128, 0.9008766120000128, 0.9008766120000128, 0.9008766120000128, 0.9008766120000128, 0.9034759632122894, 0.9034759632122894, 0.9034759632122894, 0.9037358558571683, 0.9037358558571683, 0.9037358558571683, 0.9041634733259328, 0.9041634733259328, 0.9041634733259328, 0.9077377734984472, 0.9088558369671617]}], \"norm_macro_recall\": [{\"categories\": [\"0\", \"1\", \"2\", \"3\", \"4\", \"5\", \"6\", \"7\", \"8\", \"9\", \"10\", \"11\", \"12\", \"13\", \"14\", \"20\", \"21\"], \"mode\": \"markers\", \"name\": \"norm_macro_recall\", \"stepped\": false, \"type\": \"scatter\", \"data\": [0.22104401214539168, 0.22429949168763588, 0.03514321326821331, 0.0, 0.33533178654234463, 0.12323442619656248, 0.14318173458512237, 0.18447545275306565, 0.2013346964505446, 0.2247340315003342, 0.2372568917003015, 0.05883584754552499, 0.11496376431741706, 0.11477813334589497, 0.0715855045492142, 0.18675504997413986, 0.26981451962635145]}, {\"categories\": [\"0\", \"1\", \"2\", \"3\", \"4\", \"5\", \"6\", \"7\", \"8\", \"9\", \"10\", \"11\", \"12\", \"13\", \"14\", \"20\", \"21\"], \"mode\": \"lines\", \"name\": \"norm_macro_recall_max\", \"stepped\": true, \"type\": \"scatter\", \"data\": [0.22104401214539168, 0.22429949168763588, 0.22429949168763588, 0.22429949168763588, 0.33533178654234463, 0.33533178654234463, 0.33533178654234463, 0.33533178654234463, 0.33533178654234463, 0.33533178654234463, 0.33533178654234463, 0.33533178654234463, 0.33533178654234463, 0.33533178654234463, 0.33533178654234463, 0.33533178654234463, 0.33533178654234463]}], \"recall_score_micro\": [{\"categories\": [\"0\", \"1\", \"2\", \"3\", \"4\", \"5\", \"6\", \"7\", \"8\", \"9\", \"10\", \"11\", \"12\", \"13\", \"14\", \"20\", \"21\"], \"mode\": \"markers\", \"name\": \"recall_score_micro\", \"stepped\": false, \"type\": \"scatter\", \"data\": [0.8484628598507286, 0.84937852940015, 0.8421148758046044, 0.8384818149508352, 0.8312132251313035, 0.8475521265252932, 0.8493612526161987, 0.8439289381194962, 0.8511876554910556, 0.8548133120088458, 0.8511950598270347, 0.8439289381194962, 0.8511851873790626, 0.8520934525925048, 0.8493711250641708, 0.8557265134462742, 0.856617501875765]}, {\"categories\": [\"0\", \"1\", \"2\", \"3\", \"4\", \"5\", \"6\", \"7\", \"8\", \"9\", \"10\", \"11\", \"12\", \"13\", \"14\", \"20\", \"21\"], \"mode\": \"lines\", \"name\": \"recall_score_micro_max\", \"stepped\": true, \"type\": \"scatter\", \"data\": [0.8484628598507286, 0.84937852940015, 0.84937852940015, 0.84937852940015, 0.84937852940015, 0.84937852940015, 0.84937852940015, 0.84937852940015, 0.8511876554910556, 0.8548133120088458, 0.8548133120088458, 0.8548133120088458, 0.8548133120088458, 0.8548133120088458, 0.8548133120088458, 0.8557265134462742, 0.856617501875765]}], \"matthews_correlation\": [{\"categories\": [\"0\", \"1\", \"2\", \"3\", \"4\", \"5\", \"6\", \"7\", \"8\", \"9\", \"10\", \"11\", \"12\", \"13\", \"14\", \"20\", \"21\"], \"mode\": \"markers\", \"name\": \"matthews_correlation\", \"stepped\": false, \"type\": \"scatter\", \"data\": [0.3139619341228829, 0.31984403919731136, 0.11423064292053409, 0.0, 0.35176962560549246, 0.2521850307532219, 0.25820004940433083, 0.27771267749590983, 0.31084700270492155, 0.33866038093113887, 0.33288720372520464, 0.13951302085983466, 0.2692751259903296, 0.26989727092367377, 0.2299412612962534, 0.3245155287546955, 0.379497850363599]}, {\"categories\": [\"0\", \"1\", \"2\", \"3\", \"4\", \"5\", \"6\", \"7\", \"8\", \"9\", \"10\", \"11\", \"12\", \"13\", \"14\", \"20\", \"21\"], \"mode\": \"lines\", \"name\": \"matthews_correlation_max\", \"stepped\": true, \"type\": \"scatter\", \"data\": [0.3139619341228829, 0.31984403919731136, 0.31984403919731136, 0.31984403919731136, 0.35176962560549246, 0.35176962560549246, 0.35176962560549246, 0.35176962560549246, 0.35176962560549246, 0.35176962560549246, 0.35176962560549246, 0.35176962560549246, 0.35176962560549246, 0.35176962560549246, 0.35176962560549246, 0.35176962560549246, 0.379497850363599]}], \"precision_score_macro\": [{\"categories\": [\"0\", \"1\", \"2\", \"3\", \"4\", \"5\", \"6\", \"7\", \"8\", \"9\", \"10\", \"11\", \"12\", \"13\", \"14\", \"20\", \"21\"], \"mode\": \"markers\", \"name\": \"precision_score_macro\", \"stepped\": false, \"type\": \"scatter\", \"data\": [0.7349879642491084, 0.7313632478014206, 0.707186791719935, 0.4192409074754176, 0.6857322787192545, 0.770349478644209, 0.7605246117346978, 0.7161849510598257, 0.7465704744552587, 0.757991013985473, 0.7375857202572761, 0.705039885118858, 0.8407294430551268, 0.8281481191981684, 0.9239213655197261, 0.788298207370175, 0.7971429828381112]}, {\"categories\": [\"0\", \"1\", \"2\", \"3\", \"4\", \"5\", \"6\", \"7\", \"8\", \"9\", \"10\", \"11\", \"12\", \"13\", \"14\", \"20\", \"21\"], \"mode\": \"lines\", \"name\": \"precision_score_macro_max\", \"stepped\": true, \"type\": \"scatter\", \"data\": [0.7349879642491084, 0.7349879642491084, 0.7349879642491084, 0.7349879642491084, 0.7349879642491084, 0.770349478644209, 0.770349478644209, 0.770349478644209, 0.770349478644209, 0.770349478644209, 0.770349478644209, 0.770349478644209, 0.8407294430551268, 0.8407294430551268, 0.9239213655197261, 0.9239213655197261, 0.9239213655197261]}], \"AUC_weighted\": [{\"categories\": [\"0\", \"1\", \"2\", \"3\", \"4\", \"5\", \"6\", \"7\", \"8\", \"9\", \"10\", \"11\", \"12\", \"13\", \"14\", \"20\", \"21\"], \"mode\": \"markers\", \"name\": \"AUC_weighted\", \"stepped\": false, \"type\": \"scatter\", \"data\": [0.7634487448108823, 0.76751704469046, 0.7554320095036625, 0.7582043972615841, 0.7484473599623102, 0.77209804872698, 0.758297414125166, 0.7433594999098058, 0.7617504930885594, 0.7735612125903355, 0.766537076675552, 0.7743979016535708, 0.7856345913526127, 0.779886667252924, 0.7759261418918406, 0.7837195098040745, 0.7949332475690104]}, {\"categories\": [\"0\", \"1\", \"2\", \"3\", \"4\", \"5\", \"6\", \"7\", \"8\", \"9\", \"10\", \"11\", \"12\", \"13\", \"14\", \"20\", \"21\"], \"mode\": \"lines\", \"name\": \"AUC_weighted_max\", \"stepped\": true, \"type\": \"scatter\", \"data\": [0.7634487448108823, 0.76751704469046, 0.76751704469046, 0.76751704469046, 0.76751704469046, 0.77209804872698, 0.77209804872698, 0.77209804872698, 0.77209804872698, 0.7735612125903355, 0.7735612125903355, 0.7743979016535708, 0.7856345913526127, 0.7856345913526127, 0.7856345913526127, 0.7856345913526127, 0.7949332475690104]}], \"accuracy\": [{\"categories\": [\"0\", \"1\", \"2\", \"3\", \"4\", \"5\", \"6\", \"7\", \"8\", \"9\", \"10\", \"11\", \"12\", \"13\", \"14\", \"20\", \"21\"], \"mode\": \"markers\", \"name\": \"accuracy\", \"stepped\": false, \"type\": \"scatter\", \"data\": [0.8484628598507286, 0.84937852940015, 0.8421148758046044, 0.8384818149508352, 0.8312132251313035, 0.8475521265252932, 0.8493612526161987, 0.8439289381194962, 0.8511876554910556, 0.8548133120088458, 0.8511950598270347, 0.8439289381194962, 0.8511851873790626, 0.8520934525925048, 0.8493711250641708, 0.8557265134462742, 0.856617501875765]}, {\"categories\": [\"0\", \"1\", \"2\", \"3\", \"4\", \"5\", \"6\", \"7\", \"8\", \"9\", \"10\", \"11\", \"12\", \"13\", \"14\", \"20\", \"21\"], \"mode\": \"lines\", \"name\": \"accuracy_max\", \"stepped\": true, \"type\": \"scatter\", \"data\": [0.8484628598507286, 0.84937852940015, 0.84937852940015, 0.84937852940015, 0.84937852940015, 0.84937852940015, 0.84937852940015, 0.84937852940015, 0.8511876554910556, 0.8548133120088458, 0.8548133120088458, 0.8548133120088458, 0.8548133120088458, 0.8548133120088458, 0.8548133120088458, 0.8557265134462742, 0.856617501875765]}], \"f1_score_macro\": [{\"categories\": [\"0\", \"1\", \"2\", \"3\", \"4\", \"5\", \"6\", \"7\", \"8\", \"9\", \"10\", \"11\", \"12\", \"13\", \"14\", \"20\", \"21\"], \"mode\": \"markers\", \"name\": \"f1_score_macro\", \"stepped\": false, \"type\": \"scatter\", \"data\": [0.627060436157789, 0.6353963983100894, 0.4902516049081875, 0.4560405245109416, 0.673438194338543, 0.5688698107815422, 0.5799793421954749, 0.608591727014824, 0.6213882508546408, 0.638987217265134, 0.6424882498372306, 0.5087089466388508, 0.5611178464702168, 0.5625248968334314, 0.523644208856893, 0.6158422009798569, 0.6513323216755311]}, {\"categories\": [\"0\", \"1\", \"2\", \"3\", \"4\", \"5\", \"6\", \"7\", \"8\", \"9\", \"10\", \"11\", \"12\", \"13\", \"14\", \"20\", \"21\"], \"mode\": \"lines\", \"name\": \"f1_score_macro_max\", \"stepped\": true, \"type\": \"scatter\", \"data\": [0.627060436157789, 0.6353963983100894, 0.6353963983100894, 0.6353963983100894, 0.673438194338543, 0.673438194338543, 0.673438194338543, 0.673438194338543, 0.673438194338543, 0.673438194338543, 0.673438194338543, 0.673438194338543, 0.673438194338543, 0.673438194338543, 0.673438194338543, 0.673438194338543, 0.673438194338543]}], \"recall_score_weighted\": [{\"categories\": [\"0\", \"1\", \"2\", \"3\", \"4\", \"5\", \"6\", \"7\", \"8\", \"9\", \"10\", \"11\", \"12\", \"13\", \"14\", \"20\", \"21\"], \"mode\": \"markers\", \"name\": \"recall_score_weighted\", \"stepped\": false, \"type\": \"scatter\", \"data\": [0.8484628598507286, 0.84937852940015, 0.8421148758046044, 0.8384818149508352, 0.8312132251313035, 0.8475521265252932, 0.8493612526161987, 0.8439289381194962, 0.8511876554910556, 0.8548133120088458, 0.8511950598270347, 0.8439289381194962, 0.8511851873790626, 0.8520934525925048, 0.8493711250641708, 0.8557265134462742, 0.856617501875765]}, {\"categories\": [\"0\", \"1\", \"2\", \"3\", \"4\", \"5\", \"6\", \"7\", \"8\", \"9\", \"10\", \"11\", \"12\", \"13\", \"14\", \"20\", \"21\"], \"mode\": \"lines\", \"name\": \"recall_score_weighted_max\", \"stepped\": true, \"type\": \"scatter\", \"data\": [0.8484628598507286, 0.84937852940015, 0.84937852940015, 0.84937852940015, 0.84937852940015, 0.84937852940015, 0.84937852940015, 0.84937852940015, 0.8511876554910556, 0.8548133120088458, 0.8548133120088458, 0.8548133120088458, 0.8548133120088458, 0.8548133120088458, 0.8548133120088458, 0.8557265134462742, 0.856617501875765]}], \"weighted_accuracy\": [{\"categories\": [\"0\", \"1\", \"2\", \"3\", \"4\", \"5\", \"6\", \"7\", \"8\", \"9\", \"10\", \"11\", \"12\", \"13\", \"14\", \"20\", \"21\"], \"mode\": \"markers\", \"name\": \"weighted_accuracy\", \"stepped\": false, \"type\": \"scatter\", \"data\": [0.938099295564744, 0.9377272791159795, 0.962788806308765, 0.963776356537835, 0.8924696057721745, 0.9540177720842267, 0.9527056177926646, 0.9380613434007881, 0.9447357199987086, 0.9448609336944652, 0.938040712420395, 0.9613983276750684, 0.9606340128122453, 0.9616935342904976, 0.9660372071648009, 0.9533558316034084, 0.9407612735701307]}, {\"categories\": [\"0\", \"1\", \"2\", \"3\", \"4\", \"5\", \"6\", \"7\", \"8\", \"9\", \"10\", \"11\", \"12\", \"13\", \"14\", \"20\", \"21\"], \"mode\": \"lines\", \"name\": \"weighted_accuracy_max\", \"stepped\": true, \"type\": \"scatter\", \"data\": [0.938099295564744, 0.938099295564744, 0.962788806308765, 0.963776356537835, 0.963776356537835, 0.963776356537835, 0.963776356537835, 0.963776356537835, 0.963776356537835, 0.963776356537835, 0.963776356537835, 0.963776356537835, 0.963776356537835, 0.963776356537835, 0.9660372071648009, 0.9660372071648009, 0.9660372071648009]}], \"precision_score_weighted\": [{\"categories\": [\"0\", \"1\", \"2\", \"3\", \"4\", \"5\", \"6\", \"7\", \"8\", \"9\", \"10\", \"11\", \"12\", \"13\", \"14\", \"20\", \"21\"], \"mode\": \"markers\", \"name\": \"precision_score_weighted\", \"stepped\": false, \"type\": \"scatter\", \"data\": [0.8277469277352196, 0.8275995783824123, 0.7989249257122667, 0.7032541636017166, 0.825727756639634, 0.8300770125065225, 0.8282797787829471, 0.8181816689364846, 0.8296490408607236, 0.8364172655932526, 0.8305045215749923, 0.7985242733800325, 0.8521811856044655, 0.8470531655489973, 0.8727007409255307, 0.8420380876085666, 0.8543130034945438]}, {\"categories\": [\"0\", \"1\", \"2\", \"3\", \"4\", \"5\", \"6\", \"7\", \"8\", \"9\", \"10\", \"11\", \"12\", \"13\", \"14\", \"20\", \"21\"], \"mode\": \"lines\", \"name\": \"precision_score_weighted_max\", \"stepped\": true, \"type\": \"scatter\", \"data\": [0.8277469277352196, 0.8277469277352196, 0.8277469277352196, 0.8277469277352196, 0.8277469277352196, 0.8300770125065225, 0.8300770125065225, 0.8300770125065225, 0.8300770125065225, 0.8364172655932526, 0.8364172655932526, 0.8364172655932526, 0.8521811856044655, 0.8521811856044655, 0.8727007409255307, 0.8727007409255307, 0.8727007409255307]}], \"balanced_accuracy\": [{\"categories\": [\"0\", \"1\", \"2\", \"3\", \"4\", \"5\", \"6\", \"7\", \"8\", \"9\", \"10\", \"11\", \"12\", \"13\", \"14\", \"20\", \"21\"], \"mode\": \"markers\", \"name\": \"balanced_accuracy\", \"stepped\": false, \"type\": \"scatter\", \"data\": [0.6105220060726958, 0.612149745843818, 0.5175716066341066, 0.5, 0.6676658932711724, 0.5616172130982812, 0.5715908672925611, 0.5922377263765328, 0.6006673482252723, 0.612367015750167, 0.6186284458501508, 0.5294179237727624, 0.5574818821587085, 0.5573890666729475, 0.5357927522746071, 0.59337752498707, 0.6349072598131758]}, {\"categories\": [\"0\", \"1\", \"2\", \"3\", \"4\", \"5\", \"6\", \"7\", \"8\", \"9\", \"10\", \"11\", \"12\", \"13\", \"14\", \"20\", \"21\"], \"mode\": \"lines\", \"name\": \"balanced_accuracy_max\", \"stepped\": true, \"type\": \"scatter\", \"data\": [0.6105220060726958, 0.612149745843818, 0.612149745843818, 0.612149745843818, 0.6676658932711724, 0.6676658932711724, 0.6676658932711724, 0.6676658932711724, 0.6676658932711724, 0.6676658932711724, 0.6676658932711724, 0.6676658932711724, 0.6676658932711724, 0.6676658932711724, 0.6676658932711724, 0.6676658932711724, 0.6676658932711724]}], \"AUC_micro\": [{\"categories\": [\"0\", \"1\", \"2\", \"3\", \"4\", \"5\", \"6\", \"7\", \"8\", \"9\", \"10\", \"11\", \"12\", \"13\", \"14\", \"20\", \"21\"], \"mode\": \"markers\", \"name\": \"AUC_micro\", \"stepped\": false, \"type\": \"scatter\", \"data\": [0.910294848168873, 0.9126401710237518, 0.9082634635820622, 0.9088093716839843, 0.8894404033369789, 0.9131524018493703, 0.9092051357519959, 0.9047029621068745, 0.9107710276296825, 0.9149300501557024, 0.9122863196844886, 0.9136082185090499, 0.9168285020690187, 0.9155502335785694, 0.9137736934336158, 0.9174867717844775, 0.9168691605847427]}, {\"categories\": [\"0\", \"1\", \"2\", \"3\", \"4\", \"5\", \"6\", \"7\", \"8\", \"9\", \"10\", \"11\", \"12\", \"13\", \"14\", \"20\", \"21\"], \"mode\": \"lines\", \"name\": \"AUC_micro_max\", \"stepped\": true, \"type\": \"scatter\", \"data\": [0.910294848168873, 0.9126401710237518, 0.9126401710237518, 0.9126401710237518, 0.9126401710237518, 0.9131524018493703, 0.9131524018493703, 0.9131524018493703, 0.9131524018493703, 0.9149300501557024, 0.9149300501557024, 0.9149300501557024, 0.9168285020690187, 0.9168285020690187, 0.9168285020690187, 0.9174867717844775, 0.9174867717844775]}]}, \"metricName\": null, \"primaryMetricName\": \"accuracy\", \"showLegend\": false}, \"run_metrics\": [{\"name\": \"experiment_status\", \"run_id\": \"AutoML_519c5605-dfcf-49d0-8459-d6dc1a62acc4\", \"categories\": [0, 1, 2, 3, 4, 5, 6, 7, 8, 9, 10, 11, 12, 13, 14], \"series\": [{\"data\": [\"DatasetEvaluation\", \"FeaturesGeneration\", \"DatasetFeaturization\", \"DatasetFeaturizationCompleted\", \"DatasetBalancing\", \"DatasetCrossValidationSplit\", \"ModelSelection\", \"BestRunExplainModel\", \"ModelExplanationDataSetSetup\", \"PickSurrogateModel\", \"EngineeredFeatureExplanations\", \"EngineeredFeatureExplanations\", \"RawFeaturesExplanations\", \"RawFeaturesExplanations\", \"BestRunExplainModel\"]}]}, {\"name\": \"experiment_status_description\", \"run_id\": \"AutoML_519c5605-dfcf-49d0-8459-d6dc1a62acc4\", \"categories\": [0, 1, 2, 3, 4, 5, 6, 7, 8, 9, 10, 11, 12, 13, 14], \"series\": [{\"data\": [\"Gathering dataset statistics.\", \"Generating features for the dataset.\", \"Beginning to fit featurizers and featurize the dataset.\", \"Completed fit featurizers and featurizing the dataset.\", \"Performing class balancing sweeping\", \"Generating individually featurized CV splits.\", \"Beginning model selection.\", \"Best run model explanations started\", \"Model explanations data setup completed\", \"Choosing LightGBM as the surrogate model for explanations\", \"Computation of engineered features started\", \"Computation of engineered features completed\", \"Computation of raw features started\", \"Computation of raw features completed\", \"Best run model explanations completed\"]}]}, {\"name\": \"recall_score_macro\", \"run_id\": \"AutoML_519c5605-dfcf-49d0-8459-d6dc1a62acc4\", \"categories\": [0], \"series\": [{\"data\": [0.6349072598131758]}]}, {\"name\": \"recall_score_micro\", \"run_id\": \"AutoML_519c5605-dfcf-49d0-8459-d6dc1a62acc4\", \"categories\": [0], \"series\": [{\"data\": [0.856617501875765]}]}, {\"name\": \"f1_score_micro\", \"run_id\": \"AutoML_519c5605-dfcf-49d0-8459-d6dc1a62acc4\", \"categories\": [0], \"series\": [{\"data\": [0.856617501875765]}]}, {\"name\": \"f1_score_macro\", \"run_id\": \"AutoML_519c5605-dfcf-49d0-8459-d6dc1a62acc4\", \"categories\": [0], \"series\": [{\"data\": [0.6513323216755311]}]}, {\"name\": \"AUC_weighted\", \"run_id\": \"AutoML_519c5605-dfcf-49d0-8459-d6dc1a62acc4\", \"categories\": [0], \"series\": [{\"data\": [0.7949332475690104]}]}, {\"name\": \"recall_score_weighted\", \"run_id\": \"AutoML_519c5605-dfcf-49d0-8459-d6dc1a62acc4\", \"categories\": [0], \"series\": [{\"data\": [0.856617501875765]}]}, {\"name\": \"AUC_macro\", \"run_id\": \"AutoML_519c5605-dfcf-49d0-8459-d6dc1a62acc4\", \"categories\": [0], \"series\": [{\"data\": [0.7949332475690104]}]}, {\"name\": \"average_precision_score_macro\", \"run_id\": \"AutoML_519c5605-dfcf-49d0-8459-d6dc1a62acc4\", \"categories\": [0], \"series\": [{\"data\": [0.7372774617142205]}]}, {\"name\": \"f1_score_weighted\", \"run_id\": \"AutoML_519c5605-dfcf-49d0-8459-d6dc1a62acc4\", \"categories\": [0], \"series\": [{\"data\": [0.8310698399087233]}]}, {\"name\": \"AUC_micro\", \"run_id\": \"AutoML_519c5605-dfcf-49d0-8459-d6dc1a62acc4\", \"categories\": [0], \"series\": [{\"data\": [0.9168691605847427]}]}, {\"name\": \"average_precision_score_micro\", \"run_id\": \"AutoML_519c5605-dfcf-49d0-8459-d6dc1a62acc4\", \"categories\": [0], \"series\": [{\"data\": [0.9088558369671617]}]}, {\"name\": \"balanced_accuracy\", \"run_id\": \"AutoML_519c5605-dfcf-49d0-8459-d6dc1a62acc4\", \"categories\": [0], \"series\": [{\"data\": [0.6349072598131758]}]}, {\"name\": \"norm_macro_recall\", \"run_id\": \"AutoML_519c5605-dfcf-49d0-8459-d6dc1a62acc4\", \"categories\": [0], \"series\": [{\"data\": [0.26981451962635145]}]}, {\"name\": \"matthews_correlation\", \"run_id\": \"AutoML_519c5605-dfcf-49d0-8459-d6dc1a62acc4\", \"categories\": [0], \"series\": [{\"data\": [0.379497850363599]}]}, {\"name\": \"average_precision_score_weighted\", \"run_id\": \"AutoML_519c5605-dfcf-49d0-8459-d6dc1a62acc4\", \"categories\": [0], \"series\": [{\"data\": [0.8751121183362605]}]}, {\"name\": \"weighted_accuracy\", \"run_id\": \"AutoML_519c5605-dfcf-49d0-8459-d6dc1a62acc4\", \"categories\": [0], \"series\": [{\"data\": [0.9407612735701307]}]}, {\"name\": \"precision_score_weighted\", \"run_id\": \"AutoML_519c5605-dfcf-49d0-8459-d6dc1a62acc4\", \"categories\": [0], \"series\": [{\"data\": [0.8543130034945438]}]}, {\"name\": \"precision_score_micro\", \"run_id\": \"AutoML_519c5605-dfcf-49d0-8459-d6dc1a62acc4\", \"categories\": [0], \"series\": [{\"data\": [0.856617501875765]}]}, {\"name\": \"log_loss\", \"run_id\": \"AutoML_519c5605-dfcf-49d0-8459-d6dc1a62acc4\", \"categories\": [0], \"series\": [{\"data\": [0.36941290306752855]}]}, {\"name\": \"accuracy\", \"run_id\": \"AutoML_519c5605-dfcf-49d0-8459-d6dc1a62acc4\", \"categories\": [0], \"series\": [{\"data\": [0.856617501875765]}]}, {\"name\": \"precision_score_macro\", \"run_id\": \"AutoML_519c5605-dfcf-49d0-8459-d6dc1a62acc4\", \"categories\": [0], \"series\": [{\"data\": [0.7971429828381112]}]}], \"run_logs\": \"\\nRun is completed.\", \"graph\": {}, \"widget_settings\": {\"childWidgetDisplay\": \"popup\", \"send_telemetry\": false, \"log_level\": \"INFO\", \"sdk_version\": \"1.26.0\"}, \"loading\": false}"
          },
          "metadata": {}
        },
        {
          "output_type": "display_data",
          "data": {
            "text/plain": "<IPython.core.display.HTML object>",
            "text/html": "<table style=\"width:100%\"><tr><th>Experiment</th><th>Id</th><th>Type</th><th>Status</th><th>Details Page</th><th>Docs Page</th></tr><tr><td>og-azureml-capstone</td><td>AutoML_519c5605-dfcf-49d0-8459-d6dc1a62acc4</td><td>automl</td><td>NotStarted</td><td><a href=\"https://ml.azure.com/runs/AutoML_519c5605-dfcf-49d0-8459-d6dc1a62acc4?wsid=/subscriptions/510b94ba-e453-4417-988b-fbdc37b55ca7/resourcegroups/aml-quickstarts-143094/workspaces/quick-starts-ws-143094&amp;tid=660b3398-b80e-49d2-bc5b-ac1dc93b5254\" target=\"_blank\" rel=\"noopener\">Link to Azure Machine Learning studio</a></td><td><a href=\"https://docs.microsoft.com/en-us/python/api/overview/azure/ml/intro?view=azure-ml-py\" target=\"_blank\" rel=\"noopener\">Link to Documentation</a></td></tr></table>"
          },
          "metadata": {}
        },
        {
          "output_type": "stream",
          "name": "stdout",
          "text": [
            "\n",
            "Current status: FeaturesGeneration. Generating features for the dataset.\n",
            "Current status: DatasetBalancing. Performing class balancing sweeping\n",
            "Current status: ModelSelection. Beginning model selection.\n",
            "\n",
            "****************************************************************************************************\n",
            "DATA GUARDRAILS: \n",
            "\n",
            "TYPE:         Class balancing detection\n",
            "STATUS:       ALERTED\n",
            "DESCRIPTION:  To decrease model bias, please cancel the current run and fix balancing problem.\n",
            "              Learn more about imbalanced data: https://aka.ms/AutomatedMLImbalancedData\n",
            "DETAILS:      Imbalanced data can lead to a falsely perceived positive effect of a model's accuracy because the input data has bias towards one class.\n",
            "+---------------------------------+---------------------------------+--------------------------------------+\n",
            "|Size of the smallest class       |Name/Label of the smallest class |Number of samples in the training data|\n",
            "+=================================+=================================+======================================+\n",
            "|178                              |True                             |1102                                  |\n",
            "+---------------------------------+---------------------------------+--------------------------------------+\n",
            "\n",
            "****************************************************************************************************\n",
            "\n",
            "TYPE:         Missing feature values imputation\n",
            "STATUS:       PASSED\n",
            "DESCRIPTION:  No feature missing values were detected in the training data.\n",
            "              Learn more about missing value imputation: https://aka.ms/AutomatedMLFeaturization\n",
            "\n",
            "****************************************************************************************************\n",
            "\n",
            "TYPE:         High cardinality feature detection\n",
            "STATUS:       PASSED\n",
            "DESCRIPTION:  Your inputs were analyzed, and no high cardinality features were detected.\n",
            "              Learn more about high cardinality feature handling: https://aka.ms/AutomatedMLFeaturization\n",
            "\n",
            "****************************************************************************************************\n",
            "\n",
            "****************************************************************************************************\n",
            "ITERATION: The iteration being evaluated.\n",
            "PIPELINE: A summary description of the pipeline being evaluated.\n",
            "DURATION: Time taken for the current iteration.\n",
            "METRIC: The result of computing score on the fitted pipeline.\n",
            "BEST: The best observed score thus far.\n",
            "****************************************************************************************************\n",
            "\n",
            " ITERATION   PIPELINE                                       DURATION      METRIC      BEST\n",
            "         3   MinMaxScaler RandomForest                      0:06:00       0.8385    0.8385\n",
            "         0   MaxAbsScaler LightGBM                          0:06:08       0.8485    0.8485\n",
            "         1   MaxAbsScaler XGBoostClassifier                 0:06:03       0.8494    0.8494\n",
            "         2   MinMaxScaler RandomForest                      0:06:05       0.8421    0.8494\n",
            "         4   MinMaxScaler RandomForest                      0:06:05       0.8312    0.8494\n",
            "         5   StandardScalerWrapper XGBoostClassifier        0:05:46       0.8476    0.8494\n",
            "         6   MinMaxScaler SVM                               0:05:49       0.8494    0.8494\n",
            "         8   SparseNormalizer XGBoostClassifier             0:05:47       0.8512    0.8512\n",
            "         7   SparseNormalizer XGBoostClassifier             0:05:53       0.8439    0.8512\n",
            "         9   SparseNormalizer XGBoostClassifier             0:05:48       0.8548    0.8548\n",
            "        10   SparseNormalizer XGBoostClassifier             0:05:46       0.8512    0.8548\n",
            "        12   MaxAbsScaler GradientBoosting                  0:05:39       0.8512    0.8548\n",
            "        11   MaxAbsScaler ExtremeRandomTrees                0:05:54       0.8439    0.8548\n",
            "        13   MaxAbsScaler LightGBM                          0:05:42       0.8521    0.8548\n",
            "        14   MinMaxScaler LightGBM                          0:05:48       0.8494    0.8548\n",
            "        15                                                  0:02:21          nan    0.8548\n",
            "ERROR: {\n",
            "    \"additional_properties\": {},\n",
            "    \"error\": {\n",
            "        \"additional_properties\": {\n",
            "            \"debugInfo\": null\n",
            "        },\n",
            "        \"code\": \"UserError\",\n",
            "        \"severity\": null,\n",
            "        \"message\": \"Experiment timeout reached, please consider increasing your experiment timeout.\",\n",
            "        \"message_format\": \"Experiment timeout reached, please consider increasing your experiment timeout.\",\n",
            "        \"message_parameters\": {},\n",
            "        \"reference_code\": null,\n",
            "        \"details_uri\": null,\n",
            "        \"target\": null,\n",
            "        \"details\": [],\n",
            "        \"inner_error\": {\n",
            "            \"additional_properties\": {},\n",
            "            \"code\": \"ResourceExhausted\",\n",
            "            \"inner_error\": {\n",
            "                \"additional_properties\": {},\n",
            "                \"code\": \"Timeout\",\n",
            "                \"inner_error\": {\n",
            "                    \"additional_properties\": {},\n",
            "                    \"code\": \"ExperimentTimeoutForIterations\",\n",
            "                    \"inner_error\": null\n",
            "                }\n",
            "            }\n",
            "        }\n",
            "    },\n",
            "    \"correlation\": null,\n",
            "    \"environment\": null,\n",
            "    \"location\": null,\n",
            "    \"time\": {},\n",
            "    \"component_name\": null\n",
            "}\n",
            "        16                                                  0:02:19          nan    0.8548\n",
            "ERROR: {\n",
            "    \"additional_properties\": {},\n",
            "    \"error\": {\n",
            "        \"additional_properties\": {\n",
            "            \"debugInfo\": null\n",
            "        },\n",
            "        \"code\": \"UserError\",\n",
            "        \"severity\": null,\n",
            "        \"message\": \"Experiment timeout reached, please consider increasing your experiment timeout.\",\n",
            "        \"message_format\": \"Experiment timeout reached, please consider increasing your experiment timeout.\",\n",
            "        \"message_parameters\": {},\n",
            "        \"reference_code\": null,\n",
            "        \"details_uri\": null,\n",
            "        \"target\": null,\n",
            "        \"details\": [],\n",
            "        \"inner_error\": {\n",
            "            \"additional_properties\": {},\n",
            "            \"code\": \"ResourceExhausted\",\n",
            "            \"inner_error\": {\n",
            "                \"additional_properties\": {},\n",
            "                \"code\": \"Timeout\",\n",
            "                \"inner_error\": {\n",
            "                    \"additional_properties\": {},\n",
            "                    \"code\": \"ExperimentTimeoutForIterations\",\n",
            "                    \"inner_error\": null\n",
            "                }\n",
            "            }\n",
            "        }\n",
            "    },\n",
            "    \"correlation\": null,\n",
            "    \"environment\": null,\n",
            "    \"location\": null,\n",
            "    \"time\": {},\n",
            "    \"component_name\": null\n",
            "}\n",
            "        17                                                  0:02:12          nan    0.8548\n",
            "ERROR: {\n",
            "    \"additional_properties\": {},\n",
            "    \"error\": {\n",
            "        \"additional_properties\": {\n",
            "            \"debugInfo\": null\n",
            "        },\n",
            "        \"code\": \"UserError\",\n",
            "        \"severity\": null,\n",
            "        \"message\": \"Experiment timeout reached, please consider increasing your experiment timeout.\",\n",
            "        \"message_format\": \"Experiment timeout reached, please consider increasing your experiment timeout.\",\n",
            "        \"message_parameters\": {},\n",
            "        \"reference_code\": null,\n",
            "        \"details_uri\": null,\n",
            "        \"target\": null,\n",
            "        \"details\": [],\n",
            "        \"inner_error\": {\n",
            "            \"additional_properties\": {},\n",
            "            \"code\": \"ResourceExhausted\",\n",
            "            \"inner_error\": {\n",
            "                \"additional_properties\": {},\n",
            "                \"code\": \"Timeout\",\n",
            "                \"inner_error\": {\n",
            "                    \"additional_properties\": {},\n",
            "                    \"code\": \"ExperimentTimeoutForIterations\",\n",
            "                    \"inner_error\": null\n",
            "                }\n",
            "            }\n",
            "        }\n",
            "    },\n",
            "    \"correlation\": null,\n",
            "    \"environment\": null,\n",
            "    \"location\": null,\n",
            "    \"time\": {},\n",
            "    \"component_name\": null\n",
            "}\n",
            "        18                                                  0:02:07          nan    0.8548\n",
            "ERROR: {\n",
            "    \"additional_properties\": {},\n",
            "    \"error\": {\n",
            "        \"additional_properties\": {\n",
            "            \"debugInfo\": null\n",
            "        },\n",
            "        \"code\": \"UserError\",\n",
            "        \"severity\": null,\n",
            "        \"message\": \"Experiment timeout reached, please consider increasing your experiment timeout.\",\n",
            "        \"message_format\": \"Experiment timeout reached, please consider increasing your experiment timeout.\",\n",
            "        \"message_parameters\": {},\n",
            "        \"reference_code\": null,\n",
            "        \"details_uri\": null,\n",
            "        \"target\": null,\n",
            "        \"details\": [],\n",
            "        \"inner_error\": {\n",
            "            \"additional_properties\": {},\n",
            "            \"code\": \"ResourceExhausted\",\n",
            "            \"inner_error\": {\n",
            "                \"additional_properties\": {},\n",
            "                \"code\": \"Timeout\",\n",
            "                \"inner_error\": {\n",
            "                    \"additional_properties\": {},\n",
            "                    \"code\": \"ExperimentTimeoutForIterations\",\n",
            "                    \"inner_error\": null\n",
            "                }\n",
            "            }\n",
            "        }\n",
            "    },\n",
            "    \"correlation\": null,\n",
            "    \"environment\": null,\n",
            "    \"location\": null,\n",
            "    \"time\": {},\n",
            "    \"component_name\": null\n",
            "}\n",
            "        19                                                  0:02:07          nan    0.8548\n",
            "ERROR: {\n",
            "    \"additional_properties\": {},\n",
            "    \"error\": {\n",
            "        \"additional_properties\": {\n",
            "            \"debugInfo\": null\n",
            "        },\n",
            "        \"code\": \"UserError\",\n",
            "        \"severity\": null,\n",
            "        \"message\": \"Experiment timeout reached, please consider increasing your experiment timeout.\",\n",
            "        \"message_format\": \"Experiment timeout reached, please consider increasing your experiment timeout.\",\n",
            "        \"message_parameters\": {},\n",
            "        \"reference_code\": null,\n",
            "        \"details_uri\": null,\n",
            "        \"target\": null,\n",
            "        \"details\": [],\n",
            "        \"inner_error\": {\n",
            "            \"additional_properties\": {},\n",
            "            \"code\": \"ResourceExhausted\",\n",
            "            \"inner_error\": {\n",
            "                \"additional_properties\": {},\n",
            "                \"code\": \"Timeout\",\n",
            "                \"inner_error\": {\n",
            "                    \"additional_properties\": {},\n",
            "                    \"code\": \"ExperimentTimeoutForIterations\",\n",
            "                    \"inner_error\": null\n",
            "                }\n",
            "            }\n",
            "        }\n",
            "    },\n",
            "    \"correlation\": null,\n",
            "    \"environment\": null,\n",
            "    \"location\": null,\n",
            "    \"time\": {},\n",
            "    \"component_name\": null\n",
            "}\n",
            "        20    VotingEnsemble                                0:06:09       0.8557    0.8557\n",
            "        21    StackEnsemble                                 0:06:08       0.8566    0.8566\n"
          ]
        },
        {
          "output_type": "execute_result",
          "execution_count": 11,
          "data": {
            "text/plain": "{'runId': 'AutoML_519c5605-dfcf-49d0-8459-d6dc1a62acc4',\n 'target': 'notebook143094',\n 'status': 'Completed',\n 'startTimeUtc': '2021-04-19T00:25:22.196098Z',\n 'endTimeUtc': '2021-04-19T01:06:45.136762Z',\n 'properties': {'num_iterations': '1000',\n  'training_type': 'TrainFull',\n  'acquisition_function': 'EI',\n  'primary_metric': 'accuracy',\n  'train_split': '0',\n  'acquisition_parameter': '0',\n  'num_cross_validation': '3',\n  'target': 'notebook143094',\n  'AMLSettingsJsonString': '{\"path\":null,\"name\":\"og-azureml-capstone\",\"subscription_id\":\"510b94ba-e453-4417-988b-fbdc37b55ca7\",\"resource_group\":\"aml-quickstarts-143094\",\"workspace_name\":\"quick-starts-ws-143094\",\"region\":\"southcentralus\",\"compute_target\":\"notebook143094\",\"spark_service\":null,\"azure_service\":\"remote\",\"many_models\":false,\"pipeline_fetch_max_batch_size\":1,\"enable_batch_run\":false,\"enable_run_restructure\":false,\"iterations\":1000,\"primary_metric\":\"accuracy\",\"task_type\":\"classification\",\"data_script\":null,\"test_size\":0.0,\"validation_size\":0.0,\"n_cross_validations\":3,\"y_min\":null,\"y_max\":null,\"num_classes\":null,\"featurization\":\"auto\",\"_ignore_package_version_incompatibilities\":false,\"is_timeseries\":false,\"max_cores_per_iteration\":1,\"max_concurrent_iterations\":5,\"iteration_timeout_minutes\":null,\"mem_in_mb\":null,\"enforce_time_on_windows\":false,\"experiment_timeout_minutes\":20,\"experiment_exit_score\":null,\"whitelist_models\":null,\"blacklist_algos\":[\"TensorFlowLinearClassifier\",\"TensorFlowDNN\"],\"supported_models\":[\"AveragedPerceptronClassifier\",\"TensorFlowLinearClassifier\",\"LogisticRegression\",\"MultinomialNaiveBayes\",\"KNN\",\"SVM\",\"RandomForest\",\"LightGBM\",\"TensorFlowDNN\",\"LinearSVM\",\"XGBoostClassifier\",\"GradientBoosting\",\"BernoulliNaiveBayes\",\"DecisionTree\",\"ExtremeRandomTrees\",\"SGD\"],\"private_models\":[],\"auto_blacklist\":true,\"blacklist_samples_reached\":false,\"exclude_nan_labels\":true,\"verbosity\":20,\"_debug_log\":\"azureml_automl.log\",\"show_warnings\":false,\"model_explainability\":true,\"service_url\":null,\"sdk_url\":null,\"sdk_packages\":null,\"enable_onnx_compatible_models\":false,\"enable_split_onnx_featurizer_estimator_models\":false,\"vm_type\":\"STANDARD_DS3_V2\",\"telemetry_verbosity\":20,\"send_telemetry\":true,\"enable_dnn\":false,\"scenario\":\"SDK-1.13.0\",\"environment_label\":null,\"save_mlflow\":false,\"force_text_dnn\":false,\"enable_feature_sweeping\":true,\"enable_early_stopping\":true,\"early_stopping_n_iters\":10,\"metrics\":null,\"enable_metric_confidence\":false,\"enable_ensembling\":true,\"enable_stack_ensembling\":true,\"ensemble_iterations\":15,\"enable_tf\":false,\"enable_subsampling\":null,\"subsample_seed\":null,\"enable_nimbusml\":false,\"enable_streaming\":false,\"force_streaming\":false,\"track_child_runs\":true,\"allowed_private_models\":[],\"label_column_name\":\"Attrition\",\"weight_column_name\":null,\"cv_split_column_names\":null,\"enable_local_managed\":false,\"_local_managed_run_id\":null,\"cost_mode\":1,\"lag_length\":0,\"metric_operation\":\"maximize\",\"preprocess\":true}',\n  'DataPrepJsonString': '{\\\\\"training_data\\\\\": {\\\\\"datasetId\\\\\": \\\\\"d5abcedd-30c7-4c2d-bc66-c670a230287b\\\\\"}, \\\\\"datasets\\\\\": 0}',\n  'EnableSubsampling': None,\n  'runTemplate': 'AutoML',\n  'azureml.runsource': 'automl',\n  'display_task_type': 'classification',\n  'dependencies_versions': '{\"azureml-widgets\": \"1.26.0\", \"azureml-train\": \"1.26.0\", \"azureml-train-restclients-hyperdrive\": \"1.26.0\", \"azureml-train-core\": \"1.26.0\", \"azureml-train-automl\": \"1.26.0\", \"azureml-train-automl-runtime\": \"1.26.0\", \"azureml-train-automl-client\": \"1.26.0\", \"azureml-tensorboard\": \"1.26.0\", \"azureml-telemetry\": \"1.26.0\", \"azureml-sdk\": \"1.26.0\", \"azureml-samples\": \"0+unknown\", \"azureml-pipeline\": \"1.26.0\", \"azureml-pipeline-steps\": \"1.26.0\", \"azureml-pipeline-core\": \"1.26.0\", \"azureml-opendatasets\": \"1.26.0\", \"azureml-model-management-sdk\": \"1.0.1b6.post1\", \"azureml-mlflow\": \"1.26.0\", \"azureml-interpret\": \"1.26.0\", \"azureml-explain-model\": \"1.26.0\", \"azureml-defaults\": \"1.26.0\", \"azureml-dataset-runtime\": \"1.26.0\", \"azureml-dataprep\": \"2.13.2\", \"azureml-dataprep-rslex\": \"1.11.2\", \"azureml-dataprep-native\": \"32.0.0\", \"azureml-datadrift\": \"1.26.0\", \"azureml-core\": \"1.26.0\", \"azureml-contrib-services\": \"1.26.0\", \"azureml-contrib-server\": \"1.26.0\", \"azureml-contrib-reinforcementlearning\": \"1.26.0\", \"azureml-contrib-pipeline-steps\": \"1.26.0\", \"azureml-contrib-notebook\": \"1.26.0\", \"azureml-contrib-gbdt\": \"1.26.0\", \"azureml-contrib-fairness\": \"1.26.0\", \"azureml-contrib-dataset\": \"1.26.0\", \"azureml-cli-common\": \"1.26.0\", \"azureml-automl-runtime\": \"1.26.0\", \"azureml-automl-dnn-nlp\": \"1.26.0\", \"azureml-automl-core\": \"1.26.0\", \"azureml-accel-models\": \"1.26.0\"}',\n  '_aml_system_scenario_identification': 'Remote.Parent',\n  'ClientType': 'SDK',\n  'environment_cpu_name': 'AzureML-AutoML',\n  'environment_cpu_label': 'prod',\n  'environment_gpu_name': 'AzureML-AutoML-GPU',\n  'environment_gpu_label': 'prod',\n  'root_attribution': 'automl',\n  'attribution': 'AutoML',\n  'Orchestrator': 'AutoML',\n  'CancelUri': 'https://southcentralus.experiments.azureml.net/jasmine/v1.0/subscriptions/510b94ba-e453-4417-988b-fbdc37b55ca7/resourceGroups/aml-quickstarts-143094/providers/Microsoft.MachineLearningServices/workspaces/quick-starts-ws-143094/experimentids/d5fbd018-46c8-4b3b-a442-58b3ca8f05f8/cancel/AutoML_519c5605-dfcf-49d0-8459-d6dc1a62acc4',\n  'ClientSdkVersion': '1.25.0',\n  'snapshotId': '00000000-0000-0000-0000-000000000000',\n  'SetupRunId': 'AutoML_519c5605-dfcf-49d0-8459-d6dc1a62acc4_setup',\n  'SetupRunContainerId': 'dcid.AutoML_519c5605-dfcf-49d0-8459-d6dc1a62acc4_setup',\n  'FeaturizationRunJsonPath': 'featurizer_container.json',\n  'FeaturizationRunId': 'AutoML_519c5605-dfcf-49d0-8459-d6dc1a62acc4_featurize',\n  'ProblemInfoJsonString': '{\"dataset_num_categorical\": 0, \"is_sparse\": false, \"subsampling\": false, \"dataset_classes\": 2, \"dataset_features\": 44, \"dataset_samples\": 1102, \"single_frequency_class_detected\": false}',\n  'ModelExplainRunId': 'AutoML_519c5605-dfcf-49d0-8459-d6dc1a62acc4_ModelExplain'},\n 'inputDatasets': [{'dataset': {'id': 'd5abcedd-30c7-4c2d-bc66-c670a230287b'}, 'consumptionDetails': {'type': 'RunInput', 'inputName': 'training_data', 'mechanism': 'Direct'}}],\n 'outputDatasets': [],\n 'logFiles': {},\n 'submittedBy': 'ODL_User 143094'}"
          },
          "metadata": {}
        }
      ],
      "execution_count": 11,
      "metadata": {
        "gather": {
          "logged": 1618794421808
        },
        "jupyter": {
          "outputs_hidden": false,
          "source_hidden": false
        },
        "nteract": {
          "transient": {
            "deleting": false
          }
        }
      }
    },
    {
      "cell_type": "markdown",
      "source": [
        "## Best Model\n",
        "\n",
        "TODO: In the cell below, get the best model from the automl experiments and display all the properties of the model.\n",
        "\n"
      ],
      "metadata": {}
    },
    {
      "cell_type": "code",
      "source": [
        "# Get best model and its details\n",
        "output_folder='./outputs'\n",
        "\n",
        "best_automl_run, best_automl_model = remote_run.get_output()\n",
        "run_details = best_automl_run.get_details()\n",
        "\n",
        "model_details = {\n",
        "    'RunID': [run_details['runId']],\n",
        "    'Iteration': [run_details['properties']['iteration']],\n",
        "    'Primary metric': [run_details['properties']['primary_metric']],\n",
        "    'Score': [run_details['properties']['score']],\n",
        "    'Algorithm and hyperparameters': [best_automl_model.steps]\n",
        "}\n",
        "\n",
        "print(model_details)"
      ],
      "outputs": [
        {
          "output_type": "stream",
          "name": "stdout",
          "text": [
            "{'RunID': ['AutoML_519c5605-dfcf-49d0-8459-d6dc1a62acc4_21'], 'Iteration': ['21'], 'Primary metric': ['accuracy'], 'Score': ['0.856617501875765'], 'Algorithm and hyperparameters': [[('datatransformer', DataTransformer(enable_dnn=None, enable_feature_sweeping=None,\n",
            "                feature_sweeping_config=None, feature_sweeping_timeout=None,\n",
            "                featurization_config=None, force_text_dnn=None,\n",
            "                is_cross_validation=None, is_onnx_compatible=None, logger=None,\n",
            "                observer=None, task=None, working_dir=None)), ('stackensembleclassifier', StackEnsembleClassifier(base_learners=[('9',\n",
            "                                        Pipeline(memory=None,\n",
            "                                                 steps=[('sparsenormalizer',\n",
            "                                                         <azureml.automl.runtime.shared.model_wrappers.SparseNormalizer object at 0x7ff6dcd706a0>),\n",
            "                                                        ('xgboostclassifier',\n",
            "                                                         XGBoostClassifier(base_score=0.5,\n",
            "                                                                           booster='gbtree',\n",
            "                                                                           colsample_bylevel=1,\n",
            "                                                                           colsample_bynode=1,\n",
            "                                                                           colsample_bytree=0.8,\n",
            "                                                                           eta=0.2,\n",
            "                                                                           gamma=0,\n",
            "                                                                           learning_rate=0.1,\n",
            "                                                                           max_de...\n",
            "                        meta_learner=LogisticRegressionCV(Cs=10,\n",
            "                                                          class_weight=None,\n",
            "                                                          cv=None, dual=False,\n",
            "                                                          fit_intercept=True,\n",
            "                                                          intercept_scaling=1.0,\n",
            "                                                          l1_ratios=None,\n",
            "                                                          max_iter=100,\n",
            "                                                          multi_class='auto',\n",
            "                                                          n_jobs=None,\n",
            "                                                          penalty='l2',\n",
            "                                                          random_state=None,\n",
            "                                                          refit=True,\n",
            "                                                          scoring=<azureml.automl.runtime.stack_ensemble_base.Scorer object at 0x7ff6d3815dd8>,\n",
            "                                                          solver='lbfgs',\n",
            "                                                          tol=0.0001,\n",
            "                                                          verbose=0),\n",
            "                        training_cv_folds=5))]]}\n"
          ]
        }
      ],
      "execution_count": 12,
      "metadata": {
        "gather": {
          "logged": 1618795102188
        },
        "jupyter": {
          "outputs_hidden": false,
          "source_hidden": false
        },
        "nteract": {
          "transient": {
            "deleting": false
          }
        }
      }
    },
    {
      "cell_type": "code",
      "source": [
        "# Print all steps of the model \n",
        "def print_model(model, prefix=\"\"):\n",
        "    for step in model.steps:\n",
        "        print(prefix + step[0])\n",
        "        if hasattr(step[1], 'estimators') and hasattr(step[1], 'weights'):\n",
        "            pprint({'estimators': list(e[0] for e in step[1].estimators), 'weights': step[1].weights})\n",
        "            print()\n",
        "            for estimator in step[1].estimators:\n",
        "                print_model(estimator[1], estimator[0]+ ' - ')\n",
        "        elif hasattr(step[1], '_base_learners') and hasattr(step[1], '_meta_learner'):\n",
        "            print(\"\\nMeta Learner\")\n",
        "            pprint(step[1]._meta_learner)\n",
        "            print()\n",
        "            for estimator in step[1]._base_learners:\n",
        "                print_model(estimator[1], estimator[0]+ ' - ')\n",
        "        else:\n",
        "            pprint(step[1].get_params())\n",
        "            print()\n",
        "\n",
        "print_model(best_automl_model)"
      ],
      "outputs": [
        {
          "output_type": "stream",
          "name": "stdout",
          "text": [
            "datatransformer\n",
            "{'enable_dnn': None,\n",
            " 'enable_feature_sweeping': None,\n",
            " 'feature_sweeping_config': None,\n",
            " 'feature_sweeping_timeout': None,\n",
            " 'featurization_config': None,\n",
            " 'force_text_dnn': None,\n",
            " 'is_cross_validation': None,\n",
            " 'is_onnx_compatible': None,\n",
            " 'logger': None,\n",
            " 'observer': None,\n",
            " 'task': None,\n",
            " 'working_dir': None}\n",
            "\n",
            "stackensembleclassifier\n",
            "\n",
            "Meta Learner\n",
            "LogisticRegressionCV(Cs=10, class_weight=None, cv=None, dual=False,\n",
            "                     fit_intercept=True, intercept_scaling=1.0, l1_ratios=None,\n",
            "                     max_iter=100, multi_class='auto', n_jobs=None,\n",
            "                     penalty='l2', random_state=None, refit=True,\n",
            "                     scoring=<azureml.automl.runtime.stack_ensemble_base.Scorer object at 0x7ff6d3815dd8>,\n",
            "                     solver='lbfgs', tol=0.0001, verbose=0)\n",
            "\n",
            "9 - sparsenormalizer\n",
            "{'copy': True, 'norm': 'max'}\n",
            "\n",
            "9 - xgboostclassifier\n",
            "{'base_score': 0.5,\n",
            " 'booster': 'gbtree',\n",
            " 'colsample_bylevel': 1,\n",
            " 'colsample_bynode': 1,\n",
            " 'colsample_bytree': 0.8,\n",
            " 'eta': 0.2,\n",
            " 'gamma': 0,\n",
            " 'learning_rate': 0.1,\n",
            " 'max_delta_step': 0,\n",
            " 'max_depth': 6,\n",
            " 'max_leaves': 0,\n",
            " 'min_child_weight': 1,\n",
            " 'missing': nan,\n",
            " 'n_estimators': 100,\n",
            " 'n_jobs': 1,\n",
            " 'nthread': None,\n",
            " 'objective': 'reg:logistic',\n",
            " 'random_state': 0,\n",
            " 'reg_alpha': 0,\n",
            " 'reg_lambda': 1.9791666666666667,\n",
            " 'scale_pos_weight': 1,\n",
            " 'seed': None,\n",
            " 'silent': None,\n",
            " 'subsample': 0.8,\n",
            " 'tree_method': 'auto',\n",
            " 'verbose': -10,\n",
            " 'verbosity': 0}\n",
            "\n",
            "13 - maxabsscaler\n",
            "{'copy': True}\n",
            "\n",
            "13 - lightgbmclassifier\n",
            "{'boosting_type': 'goss',\n",
            " 'class_weight': None,\n",
            " 'colsample_bytree': 0.5944444444444444,\n",
            " 'importance_type': 'split',\n",
            " 'learning_rate': 0.015797894736842105,\n",
            " 'max_bin': 200,\n",
            " 'max_depth': 4,\n",
            " 'min_child_samples': 35,\n",
            " 'min_child_weight': 4,\n",
            " 'min_split_gain': 0.8421052631578947,\n",
            " 'n_estimators': 100,\n",
            " 'n_jobs': 1,\n",
            " 'num_leaves': 212,\n",
            " 'objective': None,\n",
            " 'random_state': None,\n",
            " 'reg_alpha': 0.3157894736842105,\n",
            " 'reg_lambda': 0.5263157894736842,\n",
            " 'silent': True,\n",
            " 'subsample': 1,\n",
            " 'subsample_for_bin': 200000,\n",
            " 'subsample_freq': 0,\n",
            " 'verbose': -10}\n",
            "\n",
            "10 - sparsenormalizer\n",
            "{'copy': True, 'norm': 'max'}\n",
            "\n",
            "10 - xgboostclassifier\n",
            "{'base_score': 0.5,\n",
            " 'booster': 'gbtree',\n",
            " 'colsample_bylevel': 1,\n",
            " 'colsample_bynode': 1,\n",
            " 'colsample_bytree': 0.7,\n",
            " 'eta': 0.001,\n",
            " 'gamma': 0,\n",
            " 'learning_rate': 0.1,\n",
            " 'max_delta_step': 0,\n",
            " 'max_depth': 4,\n",
            " 'max_leaves': 7,\n",
            " 'min_child_weight': 1,\n",
            " 'missing': nan,\n",
            " 'n_estimators': 100,\n",
            " 'n_jobs': 1,\n",
            " 'nthread': None,\n",
            " 'objective': 'reg:logistic',\n",
            " 'random_state': 0,\n",
            " 'reg_alpha': 0.3125,\n",
            " 'reg_lambda': 1.875,\n",
            " 'scale_pos_weight': 1,\n",
            " 'seed': None,\n",
            " 'silent': None,\n",
            " 'subsample': 1,\n",
            " 'tree_method': 'auto',\n",
            " 'verbose': -10,\n",
            " 'verbosity': 0}\n",
            "\n",
            "8 - sparsenormalizer\n",
            "{'copy': True, 'norm': 'l2'}\n",
            "\n",
            "8 - xgboostclassifier\n",
            "{'base_score': 0.5,\n",
            " 'booster': 'gbtree',\n",
            " 'colsample_bylevel': 1,\n",
            " 'colsample_bynode': 1,\n",
            " 'colsample_bytree': 0.5,\n",
            " 'eta': 0.1,\n",
            " 'gamma': 0,\n",
            " 'learning_rate': 0.1,\n",
            " 'max_delta_step': 0,\n",
            " 'max_depth': 6,\n",
            " 'max_leaves': 15,\n",
            " 'min_child_weight': 1,\n",
            " 'missing': nan,\n",
            " 'n_estimators': 100,\n",
            " 'n_jobs': 1,\n",
            " 'nthread': None,\n",
            " 'objective': 'reg:logistic',\n",
            " 'random_state': 0,\n",
            " 'reg_alpha': 0,\n",
            " 'reg_lambda': 2.0833333333333335,\n",
            " 'scale_pos_weight': 1,\n",
            " 'seed': None,\n",
            " 'silent': None,\n",
            " 'subsample': 1,\n",
            " 'tree_method': 'auto',\n",
            " 'verbose': -10,\n",
            " 'verbosity': 0}\n",
            "\n",
            "12 - maxabsscaler\n",
            "{'copy': True}\n",
            "\n",
            "12 - gradientboostingclassifier\n",
            "{'ccp_alpha': 0.0,\n",
            " 'criterion': 'friedman_mse',\n",
            " 'init': None,\n",
            " 'learning_rate': 0.046415888336127774,\n",
            " 'loss': 'deviance',\n",
            " 'max_depth': 4,\n",
            " 'max_features': 0.4,\n",
            " 'max_leaf_nodes': None,\n",
            " 'min_impurity_decrease': 0.0,\n",
            " 'min_impurity_split': None,\n",
            " 'min_samples_leaf': 0.08736842105263157,\n",
            " 'min_samples_split': 0.5252631578947369,\n",
            " 'min_weight_fraction_leaf': 0.0,\n",
            " 'n_estimators': 100,\n",
            " 'n_iter_no_change': None,\n",
            " 'presort': 'deprecated',\n",
            " 'random_state': None,\n",
            " 'subsample': 1,\n",
            " 'tol': 0.0001,\n",
            " 'validation_fraction': 0.1,\n",
            " 'verbose': 0,\n",
            " 'warm_start': False}\n",
            "\n",
            "1 - maxabsscaler\n",
            "{'copy': True}\n",
            "\n",
            "1 - xgboostclassifier\n",
            "{'base_score': 0.5,\n",
            " 'booster': 'gbtree',\n",
            " 'colsample_bylevel': 1,\n",
            " 'colsample_bynode': 1,\n",
            " 'colsample_bytree': 1,\n",
            " 'gamma': 0,\n",
            " 'learning_rate': 0.1,\n",
            " 'max_delta_step': 0,\n",
            " 'max_depth': 3,\n",
            " 'min_child_weight': 1,\n",
            " 'missing': nan,\n",
            " 'n_estimators': 100,\n",
            " 'n_jobs': 1,\n",
            " 'nthread': None,\n",
            " 'objective': 'binary:logistic',\n",
            " 'random_state': 0,\n",
            " 'reg_alpha': 0,\n",
            " 'reg_lambda': 1,\n",
            " 'scale_pos_weight': 1,\n",
            " 'seed': None,\n",
            " 'silent': None,\n",
            " 'subsample': 1,\n",
            " 'tree_method': 'auto',\n",
            " 'verbose': -10,\n",
            " 'verbosity': 0}\n",
            "\n",
            "6 - minmaxscaler\n",
            "{'copy': True, 'feature_range': (0, 1)}\n",
            "\n",
            "6 - svcwrapper\n",
            "{'C': 159.98587196060572,\n",
            " 'break_ties': False,\n",
            " 'cache_size': 200,\n",
            " 'class_weight': None,\n",
            " 'coef0': 0.0,\n",
            " 'decision_function_shape': 'ovr',\n",
            " 'degree': 3,\n",
            " 'gamma': 'scale',\n",
            " 'kernel': 'rbf',\n",
            " 'max_iter': -1,\n",
            " 'probability': True,\n",
            " 'random_state': None,\n",
            " 'shrinking': True,\n",
            " 'tol': 0.001,\n",
            " 'verbose': False}\n",
            "\n"
          ]
        }
      ],
      "execution_count": 13,
      "metadata": {
        "gather": {
          "logged": 1618795160995
        }
      }
    },
    {
      "cell_type": "code",
      "source": [
        "#TODO: Save the best model\n",
        "model_file_name = 'automl_best_model.pkl'\n",
        "model_full_path = os.path.join(output_folder, model_file_name)\n",
        "joblib.dump(value = best_automl_model, filename = model_full_path)"
      ],
      "outputs": [
        {
          "output_type": "execute_result",
          "execution_count": 14,
          "data": {
            "text/plain": "['./outputs/automl_best_model.pkl']"
          },
          "metadata": {}
        }
      ],
      "execution_count": 14,
      "metadata": {
        "gather": {
          "logged": 1618795185662
        },
        "jupyter": {
          "outputs_hidden": false,
          "source_hidden": false
        },
        "nteract": {
          "transient": {
            "deleting": false
          }
        }
      }
    },
    {
      "cell_type": "code",
      "source": [
        "# Apply best model to test dataset, and compute accuracy to compare with Hyperdrive model\n",
        "from sklearn.metrics import accuracy_score\n",
        "\n",
        "y_test = TabularDatasetFactory.from_delimited_files(path = datastore.path(\"data/ds_test.csv\"))\n",
        "y_test = y_test.keep_columns(\"Attrition\").to_pandas_dataframe()\n",
        "tabular_ds_test = tabular_ds_test.drop_columns(\"Attrition\").to_pandas_dataframe()\n",
        "y_predict = best_automl_model.predict(tabular_ds_test)\n",
        "automl_accuracy = accuracy_score(y_test, y_predict)\n",
        "print(\"Automl accuracy\", automl_accuracy)"
      ],
      "outputs": [
        {
          "output_type": "stream",
          "name": "stdout",
          "text": [
            "Automl accuracy 0.8804347826086957\n"
          ]
        }
      ],
      "execution_count": 21,
      "metadata": {
        "gather": {
          "logged": 1618795539494
        }
      }
    },
    {
      "cell_type": "markdown",
      "source": [
        "## Model Deployment\n",
        "\n",
        "Remember you have to deploy only one of the two models you trained.. Perform the steps in the rest of this notebook only if you wish to deploy this model.\n",
        "\n",
        "TODO: In the cell below, register the model, create an inference config and deploy the model as a web service."
      ],
      "metadata": {}
    },
    {
      "cell_type": "code",
      "source": [
        "# Register model\r\n",
        "model = Model.register(\r\n",
        "    workspace = ws,\r\n",
        "    model_path = model_full_path,\r\n",
        "    model_name = 'best_automl_model',\r\n",
        "    description = 'AutoML model predicting employee attrition'\r\n",
        ")"
      ],
      "outputs": [
        {
          "output_type": "stream",
          "name": "stdout",
          "text": [
            "Registering model best_automl_model\n"
          ]
        }
      ],
      "execution_count": 22,
      "metadata": {
        "collapsed": true,
        "jupyter": {
          "source_hidden": false,
          "outputs_hidden": false
        },
        "nteract": {
          "transient": {
            "deleting": false
          }
        },
        "gather": {
          "logged": 1618795796697
        }
      }
    },
    {
      "cell_type": "code",
      "source": [
        "# Create Aci config and inference config\n",
        "env_name = 'automl_deploy_env'\n",
        "\n",
        "env = Environment.get(ws, \"AzureML-Minimal\").clone(env_name)\n",
        "\n",
        "for pip_package in [\"xgboost\"]:\n",
        "    env.python.conda_dependencies.add_pip_package(pip_package)\n",
        "\n",
        "aci_config = AciWebservice.deploy_configuration(\n",
        "    cpu_cores = 1,\n",
        "    memory_gb = 1,\n",
        "    description = 'AutoML model predicting employee attrition'\n",
        ")\n",
        "\n",
        "inference_config = InferenceConfig(entry_script = \"./score/score.py\", environment = env)\n",
        "\n",
        "deployed_model_name = 'attrition-model'"
      ],
      "outputs": [],
      "execution_count": 30,
      "metadata": {
        "gather": {
          "logged": 1618802008727
        }
      }
    },
    {
      "cell_type": "code",
      "source": [
        "# Deploy the model as a web service\n",
        "service = Model.deploy(\n",
        "    workspace = ws,\n",
        "    name = deployed_model_name,\n",
        "    models = [model],\n",
        "    inference_config = inference_config,\n",
        "    deployment_config = aci_config,\n",
        "    overwrite = True\n",
        ")\n",
        "\n",
        "service.wait_for_deployment(show_output = True)\n",
        "url = service.scoring_uri\n",
        "print(url)"
      ],
      "outputs": [
        {
          "output_type": "stream",
          "name": "stdout",
          "text": [
            "Tips: You can try get_logs(): https://aka.ms/debugimage#dockerlog or local deployment: https://aka.ms/debugimage#debug-locally to debug if deployment takes longer than 10 minutes.\n",
            "Running\n",
            "2021-04-19 03:13:40+00:00 Creating Container Registry if not exists.\n",
            "2021-04-19 03:13:43+00:00 Building image..\n",
            "2021-04-19 03:18:47+00:00 Generating deployment configuration.\n",
            "2021-04-19 03:18:48+00:00 Submitting deployment to compute..\n",
            "2021-04-19 03:18:51+00:00 Checking the status of deployment attrition-model."
          ]
        }
      ],
      "execution_count": 31,
      "metadata": {}
    },
    {
      "cell_type": "markdown",
      "source": [
        "TODO: In the cell below, send a request to the web service you deployed to test it."
      ],
      "metadata": {
        "collapsed": true,
        "gather": {
          "logged": 1598431657736
        },
        "jupyter": {
          "outputs_hidden": false,
          "source_hidden": false
        },
        "nteract": {
          "transient": {
            "deleting": false
          }
        }
      }
    },
    {
      "cell_type": "code",
      "source": [
        "test_employee = ds_train.iloc[0].to_json()\r\n",
        "data = { \"data\": [] }\r\n",
        "data[\"data\"].append(test_employee)\r\n",
        "data = json.dumps(data, indent = 4)\r\n"
      ],
      "outputs": [],
      "execution_count": null,
      "metadata": {}
    },
    {
      "cell_type": "code",
      "source": [
        "# Send a request to the web service\n",
        "headers = {'Content-Type':'application/json'}\n",
        "r = requests.post(url, data = {'data': data} , headers = headers)\n",
        "print(r.status_code)\n",
        "print(r.json())"
      ],
      "outputs": [],
      "execution_count": null,
      "metadata": {
        "gather": {
          "logged": 1598432707604
        },
        "jupyter": {
          "outputs_hidden": false,
          "source_hidden": false
        },
        "nteract": {
          "transient": {
            "deleting": false
          }
        }
      }
    },
    {
      "cell_type": "markdown",
      "source": [
        "TODO: In the cell below, print the logs of the web service and delete the service"
      ],
      "metadata": {
        "collapsed": true,
        "gather": {
          "logged": 1598432765711
        },
        "jupyter": {
          "outputs_hidden": false,
          "source_hidden": false
        },
        "nteract": {
          "transient": {
            "deleting": false
          }
        }
      }
    },
    {
      "cell_type": "code",
      "source": [
        "# print logs \n",
        "service = Webservice(ws, deployed_model_name)\n",
        "print(service.get_logs())"
      ],
      "outputs": [],
      "execution_count": null,
      "metadata": {
        "jupyter": {
          "outputs_hidden": false,
          "source_hidden": false
        },
        "nteract": {
          "transient": {
            "deleting": false
          }
        }
      }
    },
    {
      "cell_type": "code",
      "source": [
        "# delete web service \n",
        "# service.delete()"
      ],
      "outputs": [],
      "execution_count": null,
      "metadata": {}
    },
    {
      "cell_type": "code",
      "source": [],
      "outputs": [],
      "execution_count": null,
      "metadata": {}
    }
  ],
  "metadata": {
    "kernel_info": {
      "name": "python3"
    },
    "kernelspec": {
      "name": "python3",
      "language": "python",
      "display_name": "Python 3"
    },
    "language_info": {
      "name": "python",
      "version": "3.6.9",
      "mimetype": "text/x-python",
      "codemirror_mode": {
        "name": "ipython",
        "version": 3
      },
      "pygments_lexer": "ipython3",
      "nbconvert_exporter": "python",
      "file_extension": ".py"
    },
    "nteract": {
      "version": "nteract-front-end@1.0.0"
    },
    "microsoft": {
      "host": {
        "AzureML": {
          "notebookHasBeenCompleted": true
        }
      }
    }
  },
  "nbformat": 4,
  "nbformat_minor": 2
}